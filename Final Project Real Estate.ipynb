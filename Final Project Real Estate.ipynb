{
 "cells": [
  {
   "cell_type": "markdown",
   "id": "5099a563",
   "metadata": {},
   "source": [
    "# This project is proposed for SDAIA T5 Data Science Bootcamp"
   ]
  },
  {
   "cell_type": "markdown",
   "id": "189d3a69",
   "metadata": {},
   "source": [
    "by NAJLA    ALASSAF"
   ]
  },
  {
   "cell_type": "markdown",
   "id": "6b1fb6a3",
   "metadata": {},
   "source": [
    "# Predict Real Estate Prices In Melbourne"
   ]
  },
  {
   "cell_type": "code",
   "execution_count": 14,
   "id": "2089939e",
   "metadata": {},
   "outputs": [
    {
     "name": "stdout",
     "output_type": "stream",
     "text": [
      "Populating the interactive namespace from numpy and matplotlib\n"
     ]
    }
   ],
   "source": [
    "#Import libraries\n",
    "\n",
    "import pandas as pd\n",
    "import numpy as np\n",
    "import matplotlib.pyplot as plt\n",
    "import seaborn as sns\n",
    "\n",
    "from sklearn.tree import DecisionTreeRegressor\n",
    "from sklearn.metrics import mean_squared_error, r2_score\n",
    "from sklearn.linear_model import LinearRegression  \n",
    "import statsmodels as sm\n",
    "from sklearn.model_selection import train_test_split\n",
    "\n",
    "sns.set_style(\"whitegrid\")\n",
    "sns.set_context(\"talk\") \n",
    "%pylab inline"
   ]
  },
  {
   "cell_type": "code",
   "execution_count": 15,
   "id": "ef4d6887",
   "metadata": {},
   "outputs": [
    {
     "data": {
      "text/html": [
       "<div>\n",
       "<style scoped>\n",
       "    .dataframe tbody tr th:only-of-type {\n",
       "        vertical-align: middle;\n",
       "    }\n",
       "\n",
       "    .dataframe tbody tr th {\n",
       "        vertical-align: top;\n",
       "    }\n",
       "\n",
       "    .dataframe thead th {\n",
       "        text-align: right;\n",
       "    }\n",
       "</style>\n",
       "<table border=\"1\" class=\"dataframe\">\n",
       "  <thead>\n",
       "    <tr style=\"text-align: right;\">\n",
       "      <th></th>\n",
       "      <th>SellerG</th>\n",
       "      <th>Suburb</th>\n",
       "      <th>Address</th>\n",
       "      <th>Rooms</th>\n",
       "      <th>Type</th>\n",
       "      <th>Price</th>\n",
       "      <th>Method</th>\n",
       "      <th>Distance</th>\n",
       "      <th>Postcode</th>\n",
       "      <th>Bedroom2</th>\n",
       "      <th>Bathroom</th>\n",
       "      <th>Car</th>\n",
       "      <th>Landsize</th>\n",
       "      <th>BuildingArea</th>\n",
       "      <th>YearBuilt</th>\n",
       "      <th>CouncilArea</th>\n",
       "      <th>Regionname</th>\n",
       "      <th>Propertycount</th>\n",
       "    </tr>\n",
       "  </thead>\n",
       "  <tbody>\n",
       "    <tr>\n",
       "      <th>0</th>\n",
       "      <td>Biggin</td>\n",
       "      <td>Abbotsford</td>\n",
       "      <td>85 Turner St</td>\n",
       "      <td>2</td>\n",
       "      <td>h</td>\n",
       "      <td>1480000</td>\n",
       "      <td>S</td>\n",
       "      <td>2.5</td>\n",
       "      <td>3067</td>\n",
       "      <td>2</td>\n",
       "      <td>1</td>\n",
       "      <td>1.0</td>\n",
       "      <td>202</td>\n",
       "      <td>NaN</td>\n",
       "      <td>NaN</td>\n",
       "      <td>Yarra</td>\n",
       "      <td>Northern Metropolitan</td>\n",
       "      <td>4019</td>\n",
       "    </tr>\n",
       "    <tr>\n",
       "      <th>1</th>\n",
       "      <td>Biggin</td>\n",
       "      <td>Abbotsford</td>\n",
       "      <td>25 Bloomburg St</td>\n",
       "      <td>2</td>\n",
       "      <td>h</td>\n",
       "      <td>1035000</td>\n",
       "      <td>S</td>\n",
       "      <td>2.5</td>\n",
       "      <td>3067</td>\n",
       "      <td>2</td>\n",
       "      <td>1</td>\n",
       "      <td>0.0</td>\n",
       "      <td>156</td>\n",
       "      <td>79.0</td>\n",
       "      <td>1900.0</td>\n",
       "      <td>Yarra</td>\n",
       "      <td>Northern Metropolitan</td>\n",
       "      <td>4019</td>\n",
       "    </tr>\n",
       "    <tr>\n",
       "      <th>2</th>\n",
       "      <td>Biggin</td>\n",
       "      <td>Abbotsford</td>\n",
       "      <td>5 Charles St</td>\n",
       "      <td>3</td>\n",
       "      <td>h</td>\n",
       "      <td>1465000</td>\n",
       "      <td>SP</td>\n",
       "      <td>2.5</td>\n",
       "      <td>3067</td>\n",
       "      <td>3</td>\n",
       "      <td>2</td>\n",
       "      <td>0.0</td>\n",
       "      <td>134</td>\n",
       "      <td>150.0</td>\n",
       "      <td>1900.0</td>\n",
       "      <td>Yarra</td>\n",
       "      <td>Northern Metropolitan</td>\n",
       "      <td>4019</td>\n",
       "    </tr>\n",
       "    <tr>\n",
       "      <th>3</th>\n",
       "      <td>Biggin</td>\n",
       "      <td>Abbotsford</td>\n",
       "      <td>40 Federation La</td>\n",
       "      <td>3</td>\n",
       "      <td>h</td>\n",
       "      <td>850000</td>\n",
       "      <td>PI</td>\n",
       "      <td>2.5</td>\n",
       "      <td>3067</td>\n",
       "      <td>3</td>\n",
       "      <td>2</td>\n",
       "      <td>1.0</td>\n",
       "      <td>94</td>\n",
       "      <td>NaN</td>\n",
       "      <td>NaN</td>\n",
       "      <td>Yarra</td>\n",
       "      <td>Northern Metropolitan</td>\n",
       "      <td>4019</td>\n",
       "    </tr>\n",
       "    <tr>\n",
       "      <th>4</th>\n",
       "      <td>Nelson</td>\n",
       "      <td>Abbotsford</td>\n",
       "      <td>55a Park St</td>\n",
       "      <td>4</td>\n",
       "      <td>h</td>\n",
       "      <td>1600000</td>\n",
       "      <td>VB</td>\n",
       "      <td>2.5</td>\n",
       "      <td>3067</td>\n",
       "      <td>3</td>\n",
       "      <td>1</td>\n",
       "      <td>2.0</td>\n",
       "      <td>120</td>\n",
       "      <td>142.0</td>\n",
       "      <td>2014.0</td>\n",
       "      <td>Yarra</td>\n",
       "      <td>Northern Metropolitan</td>\n",
       "      <td>4019</td>\n",
       "    </tr>\n",
       "  </tbody>\n",
       "</table>\n",
       "</div>"
      ],
      "text/plain": [
       "  SellerG      Suburb           Address  Rooms Type    Price Method  Distance  \\\n",
       "0  Biggin  Abbotsford      85 Turner St      2    h  1480000      S       2.5   \n",
       "1  Biggin  Abbotsford   25 Bloomburg St      2    h  1035000      S       2.5   \n",
       "2  Biggin  Abbotsford      5 Charles St      3    h  1465000     SP       2.5   \n",
       "3  Biggin  Abbotsford  40 Federation La      3    h   850000     PI       2.5   \n",
       "4  Nelson  Abbotsford       55a Park St      4    h  1600000     VB       2.5   \n",
       "\n",
       "   Postcode  Bedroom2  Bathroom  Car  Landsize  BuildingArea  YearBuilt  \\\n",
       "0      3067         2         1  1.0       202           NaN        NaN   \n",
       "1      3067         2         1  0.0       156          79.0     1900.0   \n",
       "2      3067         3         2  0.0       134         150.0     1900.0   \n",
       "3      3067         3         2  1.0        94           NaN        NaN   \n",
       "4      3067         3         1  2.0       120         142.0     2014.0   \n",
       "\n",
       "  CouncilArea             Regionname  Propertycount  \n",
       "0       Yarra  Northern Metropolitan           4019  \n",
       "1       Yarra  Northern Metropolitan           4019  \n",
       "2       Yarra  Northern Metropolitan           4019  \n",
       "3       Yarra  Northern Metropolitan           4019  \n",
       "4       Yarra  Northern Metropolitan           4019  "
      ]
     },
     "execution_count": 15,
     "metadata": {},
     "output_type": "execute_result"
    }
   ],
   "source": [
    "#Load dataset into a dataframe\n",
    "#show the first few rows\n",
    "\n",
    "rs =pd.read_csv('melb_data.csv', index_col=None)\n",
    "rs.head()"
   ]
  },
  {
   "cell_type": "markdown",
   "id": "9c40c39f",
   "metadata": {},
   "source": [
    "You can see we have more than one columns are not usful for our project, so we will delete the unnecessary columns."
   ]
  },
  {
   "cell_type": "code",
   "execution_count": 16,
   "id": "6f9866b9",
   "metadata": {},
   "outputs": [],
   "source": [
    "rs.drop(columns= [\"Postcode\",\"Bedroom2\",\"Bathroom\", \"Address\", \"YearBuilt\", \"CouncilArea\", \"Propertycount\", \"BuildingArea\"] ,\n",
    "        inplace = True)"
   ]
  },
  {
   "cell_type": "code",
   "execution_count": 17,
   "id": "abd001e7",
   "metadata": {},
   "outputs": [
    {
     "name": "stdout",
     "output_type": "stream",
     "text": [
      "<class 'pandas.core.frame.DataFrame'>\n",
      "RangeIndex: 13580 entries, 0 to 13579\n",
      "Data columns (total 10 columns):\n",
      " #   Column      Non-Null Count  Dtype  \n",
      "---  ------      --------------  -----  \n",
      " 0   SellerG     13580 non-null  object \n",
      " 1   Suburb      13580 non-null  object \n",
      " 2   Rooms       13580 non-null  int64  \n",
      " 3   Type        13580 non-null  object \n",
      " 4   Price       13580 non-null  int64  \n",
      " 5   Method      13580 non-null  object \n",
      " 6   Distance    13580 non-null  float64\n",
      " 7   Car         13518 non-null  float64\n",
      " 8   Landsize    13580 non-null  int64  \n",
      " 9   Regionname  13580 non-null  object \n",
      "dtypes: float64(2), int64(3), object(5)\n",
      "memory usage: 1.0+ MB\n"
     ]
    }
   ],
   "source": [
    "#let's examine the datatypes searching for the null values & number of columns and rows and its datatype\n",
    "rs.info()"
   ]
  },
  {
   "cell_type": "code",
   "execution_count": 18,
   "id": "a992ac91",
   "metadata": {},
   "outputs": [
    {
     "data": {
      "text/plain": [
       "SellerG        0\n",
       "Suburb         0\n",
       "Rooms          0\n",
       "Type           0\n",
       "Price          0\n",
       "Method         0\n",
       "Distance       0\n",
       "Car           62\n",
       "Landsize       0\n",
       "Regionname     0\n",
       "dtype: int64"
      ]
     },
     "execution_count": 18,
     "metadata": {},
     "output_type": "execute_result"
    }
   ],
   "source": [
    "#making sure there is no null values\n",
    "rs.isna().sum()"
   ]
  },
  {
   "cell_type": "code",
   "execution_count": 19,
   "id": "f5553999",
   "metadata": {},
   "outputs": [],
   "source": [
    "#it seems there are some null values in 'Car' column so we will replace the null values with mode\n",
    "\n",
    "\n",
    "rs[\"Car\"].fillna(rs[\"Car\"].mode()[0], inplace=True)"
   ]
  },
  {
   "cell_type": "code",
   "execution_count": 54,
   "id": "a97d5475",
   "metadata": {},
   "outputs": [
    {
     "data": {
      "text/plain": [
       "SellerG       False\n",
       "Suburb        False\n",
       "Rooms         False\n",
       "Type          False\n",
       "Price         False\n",
       "Method        False\n",
       "Distance      False\n",
       "Car           False\n",
       "Landsize      False\n",
       "Regionname    False\n",
       "dtype: bool"
      ]
     },
     "execution_count": 54,
     "metadata": {},
     "output_type": "execute_result"
    }
   ],
   "source": [
    "\n",
    "rs.isna().any()"
   ]
  },
  {
   "cell_type": "markdown",
   "id": "ed28510e",
   "metadata": {},
   "source": [
    "Outcomes:\n",
    "\n",
    "- This shows that we have 10 columns and we have 13579 record.\n",
    "- None of the data fields have NULL values.\n",
    "- Datatype should be changed for both \"Distance\" and \"Car\", we will convert it to an integer.\n"
   ]
  },
  {
   "cell_type": "code",
   "execution_count": 21,
   "id": "1527114f",
   "metadata": {},
   "outputs": [],
   "source": [
    "#convert distance column 'distance' from float to integer \n",
    "rs['Distance'] = rs.Distance.astype('int64')\n",
    "rs['Car'] = rs.Car.astype('int64')"
   ]
  },
  {
   "cell_type": "markdown",
   "id": "11884945",
   "metadata": {},
   "source": [
    "Now we have no *null values* & the colmuns names are valid Python variables & datatype are the same. \n"
   ]
  },
  {
   "cell_type": "code",
   "execution_count": 22,
   "id": "9b4f0376",
   "metadata": {},
   "outputs": [
    {
     "data": {
      "text/plain": [
       "SellerG       object\n",
       "Suburb        object\n",
       "Rooms          int64\n",
       "Type          object\n",
       "Price          int64\n",
       "Method        object\n",
       "Distance       int64\n",
       "Car            int64\n",
       "Landsize       int64\n",
       "Regionname    object\n",
       "dtype: object"
      ]
     },
     "execution_count": 22,
     "metadata": {},
     "output_type": "execute_result"
    }
   ],
   "source": [
    "# View column data types\n",
    "rs.dtypes"
   ]
  },
  {
   "cell_type": "markdown",
   "id": "f65c4bba",
   "metadata": {},
   "source": [
    "How many rows and columns does the dataset have?"
   ]
  },
  {
   "cell_type": "code",
   "execution_count": 23,
   "id": "3a975687",
   "metadata": {},
   "outputs": [
    {
     "data": {
      "text/plain": [
       "(13580, 10)"
      ]
     },
     "execution_count": 23,
     "metadata": {},
     "output_type": "execute_result"
    }
   ],
   "source": [
    "rs.shape"
   ]
  },
  {
   "cell_type": "code",
   "execution_count": 24,
   "id": "1fb0dcc7",
   "metadata": {},
   "outputs": [
    {
     "data": {
      "text/html": [
       "<div>\n",
       "<style scoped>\n",
       "    .dataframe tbody tr th:only-of-type {\n",
       "        vertical-align: middle;\n",
       "    }\n",
       "\n",
       "    .dataframe tbody tr th {\n",
       "        vertical-align: top;\n",
       "    }\n",
       "\n",
       "    .dataframe thead th {\n",
       "        text-align: right;\n",
       "    }\n",
       "</style>\n",
       "<table border=\"1\" class=\"dataframe\">\n",
       "  <thead>\n",
       "    <tr style=\"text-align: right;\">\n",
       "      <th></th>\n",
       "      <th>Rooms</th>\n",
       "      <th>Price</th>\n",
       "      <th>Distance</th>\n",
       "      <th>Car</th>\n",
       "      <th>Landsize</th>\n",
       "    </tr>\n",
       "  </thead>\n",
       "  <tbody>\n",
       "    <tr>\n",
       "      <th>count</th>\n",
       "      <td>13580.000000</td>\n",
       "      <td>1.358000e+04</td>\n",
       "      <td>13580.000000</td>\n",
       "      <td>13580.000000</td>\n",
       "      <td>13580.000000</td>\n",
       "    </tr>\n",
       "    <tr>\n",
       "      <th>mean</th>\n",
       "      <td>2.937997</td>\n",
       "      <td>1.075684e+06</td>\n",
       "      <td>9.689912</td>\n",
       "      <td>1.611856</td>\n",
       "      <td>558.416127</td>\n",
       "    </tr>\n",
       "    <tr>\n",
       "      <th>std</th>\n",
       "      <td>0.955748</td>\n",
       "      <td>6.393107e+05</td>\n",
       "      <td>5.876915</td>\n",
       "      <td>0.960793</td>\n",
       "      <td>3990.669241</td>\n",
       "    </tr>\n",
       "    <tr>\n",
       "      <th>min</th>\n",
       "      <td>1.000000</td>\n",
       "      <td>8.500000e+04</td>\n",
       "      <td>0.000000</td>\n",
       "      <td>0.000000</td>\n",
       "      <td>0.000000</td>\n",
       "    </tr>\n",
       "    <tr>\n",
       "      <th>25%</th>\n",
       "      <td>2.000000</td>\n",
       "      <td>6.500000e+05</td>\n",
       "      <td>6.000000</td>\n",
       "      <td>1.000000</td>\n",
       "      <td>177.000000</td>\n",
       "    </tr>\n",
       "    <tr>\n",
       "      <th>50%</th>\n",
       "      <td>3.000000</td>\n",
       "      <td>9.030000e+05</td>\n",
       "      <td>9.000000</td>\n",
       "      <td>2.000000</td>\n",
       "      <td>440.000000</td>\n",
       "    </tr>\n",
       "    <tr>\n",
       "      <th>75%</th>\n",
       "      <td>3.000000</td>\n",
       "      <td>1.330000e+06</td>\n",
       "      <td>13.000000</td>\n",
       "      <td>2.000000</td>\n",
       "      <td>651.000000</td>\n",
       "    </tr>\n",
       "    <tr>\n",
       "      <th>max</th>\n",
       "      <td>10.000000</td>\n",
       "      <td>9.000000e+06</td>\n",
       "      <td>48.000000</td>\n",
       "      <td>10.000000</td>\n",
       "      <td>433014.000000</td>\n",
       "    </tr>\n",
       "  </tbody>\n",
       "</table>\n",
       "</div>"
      ],
      "text/plain": [
       "              Rooms         Price      Distance           Car       Landsize\n",
       "count  13580.000000  1.358000e+04  13580.000000  13580.000000   13580.000000\n",
       "mean       2.937997  1.075684e+06      9.689912      1.611856     558.416127\n",
       "std        0.955748  6.393107e+05      5.876915      0.960793    3990.669241\n",
       "min        1.000000  8.500000e+04      0.000000      0.000000       0.000000\n",
       "25%        2.000000  6.500000e+05      6.000000      1.000000     177.000000\n",
       "50%        3.000000  9.030000e+05      9.000000      2.000000     440.000000\n",
       "75%        3.000000  1.330000e+06     13.000000      2.000000     651.000000\n",
       "max       10.000000  9.000000e+06     48.000000     10.000000  433014.000000"
      ]
     },
     "execution_count": 24,
     "metadata": {},
     "output_type": "execute_result"
    }
   ],
   "source": [
    "rs.describe()"
   ]
  },
  {
   "cell_type": "code",
   "execution_count": 25,
   "id": "944c6a34",
   "metadata": {},
   "outputs": [
    {
     "data": {
      "text/html": [
       "<div>\n",
       "<style scoped>\n",
       "    .dataframe tbody tr th:only-of-type {\n",
       "        vertical-align: middle;\n",
       "    }\n",
       "\n",
       "    .dataframe tbody tr th {\n",
       "        vertical-align: top;\n",
       "    }\n",
       "\n",
       "    .dataframe thead th {\n",
       "        text-align: right;\n",
       "    }\n",
       "</style>\n",
       "<table border=\"1\" class=\"dataframe\">\n",
       "  <thead>\n",
       "    <tr style=\"text-align: right;\">\n",
       "      <th></th>\n",
       "      <th>SellerG</th>\n",
       "      <th>Suburb</th>\n",
       "      <th>Rooms</th>\n",
       "      <th>Type</th>\n",
       "      <th>Price</th>\n",
       "      <th>Method</th>\n",
       "      <th>Distance</th>\n",
       "      <th>Car</th>\n",
       "      <th>Landsize</th>\n",
       "      <th>Regionname</th>\n",
       "    </tr>\n",
       "  </thead>\n",
       "  <tbody>\n",
       "    <tr>\n",
       "      <th>9681</th>\n",
       "      <td>Nelson</td>\n",
       "      <td>Parkville</td>\n",
       "      <td>2</td>\n",
       "      <td>u</td>\n",
       "      <td>900000</td>\n",
       "      <td>VB</td>\n",
       "      <td>1</td>\n",
       "      <td>1</td>\n",
       "      <td>2431</td>\n",
       "      <td>Northern Metropolitan</td>\n",
       "    </tr>\n",
       "    <tr>\n",
       "      <th>6686</th>\n",
       "      <td>Jas</td>\n",
       "      <td>Yarraville</td>\n",
       "      <td>3</td>\n",
       "      <td>h</td>\n",
       "      <td>1020000</td>\n",
       "      <td>PI</td>\n",
       "      <td>7</td>\n",
       "      <td>1</td>\n",
       "      <td>248</td>\n",
       "      <td>Western Metropolitan</td>\n",
       "    </tr>\n",
       "    <tr>\n",
       "      <th>241</th>\n",
       "      <td>hockingstuart</td>\n",
       "      <td>Armadale</td>\n",
       "      <td>1</td>\n",
       "      <td>u</td>\n",
       "      <td>280000</td>\n",
       "      <td>PI</td>\n",
       "      <td>6</td>\n",
       "      <td>1</td>\n",
       "      <td>0</td>\n",
       "      <td>Southern Metropolitan</td>\n",
       "    </tr>\n",
       "    <tr>\n",
       "      <th>6559</th>\n",
       "      <td>Greg</td>\n",
       "      <td>Williamstown North</td>\n",
       "      <td>2</td>\n",
       "      <td>u</td>\n",
       "      <td>380000</td>\n",
       "      <td>PI</td>\n",
       "      <td>8</td>\n",
       "      <td>1</td>\n",
       "      <td>0</td>\n",
       "      <td>Western Metropolitan</td>\n",
       "    </tr>\n",
       "    <tr>\n",
       "      <th>5504</th>\n",
       "      <td>Burnham</td>\n",
       "      <td>Seddon</td>\n",
       "      <td>2</td>\n",
       "      <td>h</td>\n",
       "      <td>990000</td>\n",
       "      <td>S</td>\n",
       "      <td>6</td>\n",
       "      <td>2</td>\n",
       "      <td>306</td>\n",
       "      <td>Western Metropolitan</td>\n",
       "    </tr>\n",
       "  </tbody>\n",
       "</table>\n",
       "</div>"
      ],
      "text/plain": [
       "            SellerG              Suburb  Rooms Type    Price Method  Distance  \\\n",
       "9681         Nelson           Parkville      2    u   900000     VB         1   \n",
       "6686            Jas          Yarraville      3    h  1020000     PI         7   \n",
       "241   hockingstuart            Armadale      1    u   280000     PI         6   \n",
       "6559           Greg  Williamstown North      2    u   380000     PI         8   \n",
       "5504        Burnham              Seddon      2    h   990000      S         6   \n",
       "\n",
       "      Car  Landsize             Regionname  \n",
       "9681    1      2431  Northern Metropolitan  \n",
       "6686    1       248   Western Metropolitan  \n",
       "241     1         0  Southern Metropolitan  \n",
       "6559    1         0   Western Metropolitan  \n",
       "5504    2       306   Western Metropolitan  "
      ]
     },
     "execution_count": 25,
     "metadata": {},
     "output_type": "execute_result"
    }
   ],
   "source": [
    "#showing sample of five rows to check the cleaned data randomly\n",
    "rs.sample(n=5)"
   ]
  },
  {
   "cell_type": "markdown",
   "id": "d00dbde3",
   "metadata": {},
   "source": [
    "# Exploratory Data Analysis"
   ]
  },
  {
   "cell_type": "code",
   "execution_count": 26,
   "id": "9cb23c19",
   "metadata": {},
   "outputs": [
    {
     "data": {
      "image/png": "[encoded data removed]",
      "text/plain": [
       "<Figure size 720x720 with 6 Axes>"
      ]
     },
     "metadata": {
      "needs_background": "light"
     },
     "output_type": "display_data"
    }
   ],
   "source": [
    "# Draw Histogram to show distribution of data for each feature\n",
    "rs.hist(figsize=(10,10))\n",
    "plt.suptitle('Histograms shows count of each category ', fontsize=20);"
   ]
  },
  {
   "cell_type": "code",
   "execution_count": 55,
   "id": "2b7811a2",
   "metadata": {},
   "outputs": [
    {
     "data": {
      "text/plain": [
       "<AxesSubplot:>"
      ]
     },
     "execution_count": 55,
     "metadata": {},
     "output_type": "execute_result"
    },
    {
     "data": {
      "image/png": "[encoded data removed]",
      "text/plain": [
       "<Figure size 432x288 with 2 Axes>"
      ]
     },
     "metadata": {},
     "output_type": "display_data"
    }
   ],
   "source": [
    "#use the corr() function to get an idea of the correlations among the different variables\n",
    "\n",
    "sns.heatmap(rs.corr(), cmap=\"Set3\", annot=True, vmin=-1, vmax=1.53)"
   ]
  },
  {
   "cell_type": "code",
   "execution_count": 28,
   "id": "cdc4a4bb",
   "metadata": {},
   "outputs": [
    {
     "name": "stderr",
     "output_type": "stream",
     "text": [
      "C:\\Users\\Najla\\anaconda3\\lib\\site-packages\\seaborn\\distributions.py:2557: FutureWarning: `distplot` is a deprecated function and will be removed in a future version. Please adapt your code to use either `displot` (a figure-level function with similar flexibility) or `histplot` (an axes-level function for histograms).\n",
      "  warnings.warn(msg, FutureWarning)\n"
     ]
    },
    {
     "data": {
      "image/png": "[encoded data removed]",
      "text/plain": [
       "<Figure size 432x288 with 1 Axes>"
      ]
     },
     "metadata": {
      "needs_background": "light"
     },
     "output_type": "display_data"
    }
   ],
   "source": [
    "#take a look at how the real estate price is distributed\n",
    "sns.distplot(rs['Price'], color='orange', bins=35, hist_kws={'alpha': 0.3});"
   ]
  },
  {
   "cell_type": "code",
   "execution_count": 29,
   "id": "aaf6eb47",
   "metadata": {},
   "outputs": [
    {
     "name": "stdout",
     "output_type": "stream",
     "text": [
      "Price       1.000000\n",
      "Rooms       0.496634\n",
      "Car         0.239109\n",
      "Landsize    0.037507\n",
      "Distance   -0.161727\n",
      "Name: Price, dtype: float64\n"
     ]
    },
    {
     "data": {
      "text/plain": [
       "array([[1.        , 0.49663368],\n",
       "       [0.49663368, 1.        ]])"
      ]
     },
     "execution_count": 29,
     "metadata": {},
     "output_type": "execute_result"
    }
   ],
   "source": [
    "#for a better view of the correlations in order\n",
    "\n",
    "corr_matrix = rs.corr()\n",
    "print(corr_matrix.Price.sort_values(ascending=False))\n",
    "\n",
    "np.corrcoef(rs['Price'], rs['Rooms'])"
   ]
  },
  {
   "cell_type": "markdown",
   "id": "60b0d01e",
   "metadata": {},
   "source": [
    "As you can see there are Positive Moderate Correlation with (Rooms) & there is no correlation with (Landsize)\n",
    "& Negitive Weak Correlation: (Distance) & Positive Weak Correlation: (Car)"
   ]
  },
  {
   "cell_type": "code",
   "execution_count": 30,
   "id": "b05509b7",
   "metadata": {},
   "outputs": [
    {
     "data": {
      "text/plain": [
       "Text(0.5, 1.0, 'the relation between rooms and price')"
      ]
     },
     "execution_count": 30,
     "metadata": {},
     "output_type": "execute_result"
    },
    {
     "data": {
      "image/png": "[encoded data removed]",
      "text/plain": [
       "<Figure size 360x360 with 1 Axes>"
      ]
     },
     "metadata": {
      "needs_background": "light"
     },
     "output_type": "display_data"
    }
   ],
   "source": [
    "#checking the relationship between the price and rooms.\n",
    "#Create a linear model plot using seaborn's lmplot.\n",
    "\n",
    "sns.lmplot(x=\"Rooms\",y=\"Price\",data=rs, scatter=True, fit_reg=True,\n",
    "           ci=None)\n",
    "plt.title(\"the relation between rooms and price\") # Change title for the plot"
   ]
  },
  {
   "cell_type": "code",
   "execution_count": 31,
   "id": "3f83f092",
   "metadata": {},
   "outputs": [],
   "source": [
    "x=rs[['Rooms','Landsize','Car','Distance']]"
   ]
  },
  {
   "cell_type": "code",
   "execution_count": 32,
   "id": "9280e314",
   "metadata": {},
   "outputs": [
    {
     "data": {
      "text/html": [
       "<div>\n",
       "<style scoped>\n",
       "    .dataframe tbody tr th:only-of-type {\n",
       "        vertical-align: middle;\n",
       "    }\n",
       "\n",
       "    .dataframe tbody tr th {\n",
       "        vertical-align: top;\n",
       "    }\n",
       "\n",
       "    .dataframe thead th {\n",
       "        text-align: right;\n",
       "    }\n",
       "</style>\n",
       "<table border=\"1\" class=\"dataframe\">\n",
       "  <thead>\n",
       "    <tr style=\"text-align: right;\">\n",
       "      <th></th>\n",
       "      <th>Rooms</th>\n",
       "      <th>Landsize</th>\n",
       "      <th>Car</th>\n",
       "      <th>Distance</th>\n",
       "    </tr>\n",
       "  </thead>\n",
       "  <tbody>\n",
       "    <tr>\n",
       "      <th>0</th>\n",
       "      <td>2</td>\n",
       "      <td>202</td>\n",
       "      <td>1</td>\n",
       "      <td>2</td>\n",
       "    </tr>\n",
       "    <tr>\n",
       "      <th>1</th>\n",
       "      <td>2</td>\n",
       "      <td>156</td>\n",
       "      <td>0</td>\n",
       "      <td>2</td>\n",
       "    </tr>\n",
       "    <tr>\n",
       "      <th>2</th>\n",
       "      <td>3</td>\n",
       "      <td>134</td>\n",
       "      <td>0</td>\n",
       "      <td>2</td>\n",
       "    </tr>\n",
       "    <tr>\n",
       "      <th>3</th>\n",
       "      <td>3</td>\n",
       "      <td>94</td>\n",
       "      <td>1</td>\n",
       "      <td>2</td>\n",
       "    </tr>\n",
       "    <tr>\n",
       "      <th>4</th>\n",
       "      <td>4</td>\n",
       "      <td>120</td>\n",
       "      <td>2</td>\n",
       "      <td>2</td>\n",
       "    </tr>\n",
       "    <tr>\n",
       "      <th>...</th>\n",
       "      <td>...</td>\n",
       "      <td>...</td>\n",
       "      <td>...</td>\n",
       "      <td>...</td>\n",
       "    </tr>\n",
       "    <tr>\n",
       "      <th>13575</th>\n",
       "      <td>4</td>\n",
       "      <td>652</td>\n",
       "      <td>2</td>\n",
       "      <td>16</td>\n",
       "    </tr>\n",
       "    <tr>\n",
       "      <th>13576</th>\n",
       "      <td>3</td>\n",
       "      <td>333</td>\n",
       "      <td>2</td>\n",
       "      <td>6</td>\n",
       "    </tr>\n",
       "    <tr>\n",
       "      <th>13577</th>\n",
       "      <td>3</td>\n",
       "      <td>436</td>\n",
       "      <td>4</td>\n",
       "      <td>6</td>\n",
       "    </tr>\n",
       "    <tr>\n",
       "      <th>13578</th>\n",
       "      <td>4</td>\n",
       "      <td>866</td>\n",
       "      <td>5</td>\n",
       "      <td>6</td>\n",
       "    </tr>\n",
       "    <tr>\n",
       "      <th>13579</th>\n",
       "      <td>4</td>\n",
       "      <td>362</td>\n",
       "      <td>1</td>\n",
       "      <td>6</td>\n",
       "    </tr>\n",
       "  </tbody>\n",
       "</table>\n",
       "<p>13580 rows × 4 columns</p>\n",
       "</div>"
      ],
      "text/plain": [
       "       Rooms  Landsize  Car  Distance\n",
       "0          2       202    1         2\n",
       "1          2       156    0         2\n",
       "2          3       134    0         2\n",
       "3          3        94    1         2\n",
       "4          4       120    2         2\n",
       "...      ...       ...  ...       ...\n",
       "13575      4       652    2        16\n",
       "13576      3       333    2         6\n",
       "13577      3       436    4         6\n",
       "13578      4       866    5         6\n",
       "13579      4       362    1         6\n",
       "\n",
       "[13580 rows x 4 columns]"
      ]
     },
     "execution_count": 32,
     "metadata": {},
     "output_type": "execute_result"
    }
   ],
   "source": [
    "x"
   ]
  },
  {
   "cell_type": "code",
   "execution_count": 33,
   "id": "95d93b1a",
   "metadata": {},
   "outputs": [],
   "source": [
    "Seller = pd.get_dummies(rs['SellerG'],drop_first=True)\n",
    "Suburb=pd.get_dummies(rs['Suburb'],drop_first=True)\n",
    "Type=pd.get_dummies(rs['Type'],drop_first=True)\n",
    "Region=pd.get_dummies(rs['Regionname'],drop_first=True)"
   ]
  },
  {
   "cell_type": "code",
   "execution_count": 34,
   "id": "63d0485e",
   "metadata": {},
   "outputs": [
    {
     "data": {
      "text/html": [
       "<div>\n",
       "<style scoped>\n",
       "    .dataframe tbody tr th:only-of-type {\n",
       "        vertical-align: middle;\n",
       "    }\n",
       "\n",
       "    .dataframe tbody tr th {\n",
       "        vertical-align: top;\n",
       "    }\n",
       "\n",
       "    .dataframe thead th {\n",
       "        text-align: right;\n",
       "    }\n",
       "</style>\n",
       "<table border=\"1\" class=\"dataframe\">\n",
       "  <thead>\n",
       "    <tr style=\"text-align: right;\">\n",
       "      <th></th>\n",
       "      <th>ASL</th>\n",
       "      <th>Abercromby's</th>\n",
       "      <th>Ace</th>\n",
       "      <th>Alexkarbon</th>\n",
       "      <th>Allens</th>\n",
       "      <th>Anderson</th>\n",
       "      <th>Appleby</th>\n",
       "      <th>Aquire</th>\n",
       "      <th>Area</th>\n",
       "      <th>Ascend</th>\n",
       "      <th>...</th>\n",
       "      <th>Zahn</th>\n",
       "      <th>buyMyplace</th>\n",
       "      <th>hockingstuart</th>\n",
       "      <th>hockingstuart/Advantage</th>\n",
       "      <th>hockingstuart/Barry</th>\n",
       "      <th>hockingstuart/Village</th>\n",
       "      <th>iOne</th>\n",
       "      <th>iProperty</th>\n",
       "      <th>iSell</th>\n",
       "      <th>iTRAK</th>\n",
       "    </tr>\n",
       "  </thead>\n",
       "  <tbody>\n",
       "    <tr>\n",
       "      <th>0</th>\n",
       "      <td>0</td>\n",
       "      <td>0</td>\n",
       "      <td>0</td>\n",
       "      <td>0</td>\n",
       "      <td>0</td>\n",
       "      <td>0</td>\n",
       "      <td>0</td>\n",
       "      <td>0</td>\n",
       "      <td>0</td>\n",
       "      <td>0</td>\n",
       "      <td>...</td>\n",
       "      <td>0</td>\n",
       "      <td>0</td>\n",
       "      <td>0</td>\n",
       "      <td>0</td>\n",
       "      <td>0</td>\n",
       "      <td>0</td>\n",
       "      <td>0</td>\n",
       "      <td>0</td>\n",
       "      <td>0</td>\n",
       "      <td>0</td>\n",
       "    </tr>\n",
       "    <tr>\n",
       "      <th>1</th>\n",
       "      <td>0</td>\n",
       "      <td>0</td>\n",
       "      <td>0</td>\n",
       "      <td>0</td>\n",
       "      <td>0</td>\n",
       "      <td>0</td>\n",
       "      <td>0</td>\n",
       "      <td>0</td>\n",
       "      <td>0</td>\n",
       "      <td>0</td>\n",
       "      <td>...</td>\n",
       "      <td>0</td>\n",
       "      <td>0</td>\n",
       "      <td>0</td>\n",
       "      <td>0</td>\n",
       "      <td>0</td>\n",
       "      <td>0</td>\n",
       "      <td>0</td>\n",
       "      <td>0</td>\n",
       "      <td>0</td>\n",
       "      <td>0</td>\n",
       "    </tr>\n",
       "    <tr>\n",
       "      <th>2</th>\n",
       "      <td>0</td>\n",
       "      <td>0</td>\n",
       "      <td>0</td>\n",
       "      <td>0</td>\n",
       "      <td>0</td>\n",
       "      <td>0</td>\n",
       "      <td>0</td>\n",
       "      <td>0</td>\n",
       "      <td>0</td>\n",
       "      <td>0</td>\n",
       "      <td>...</td>\n",
       "      <td>0</td>\n",
       "      <td>0</td>\n",
       "      <td>0</td>\n",
       "      <td>0</td>\n",
       "      <td>0</td>\n",
       "      <td>0</td>\n",
       "      <td>0</td>\n",
       "      <td>0</td>\n",
       "      <td>0</td>\n",
       "      <td>0</td>\n",
       "    </tr>\n",
       "    <tr>\n",
       "      <th>3</th>\n",
       "      <td>0</td>\n",
       "      <td>0</td>\n",
       "      <td>0</td>\n",
       "      <td>0</td>\n",
       "      <td>0</td>\n",
       "      <td>0</td>\n",
       "      <td>0</td>\n",
       "      <td>0</td>\n",
       "      <td>0</td>\n",
       "      <td>0</td>\n",
       "      <td>...</td>\n",
       "      <td>0</td>\n",
       "      <td>0</td>\n",
       "      <td>0</td>\n",
       "      <td>0</td>\n",
       "      <td>0</td>\n",
       "      <td>0</td>\n",
       "      <td>0</td>\n",
       "      <td>0</td>\n",
       "      <td>0</td>\n",
       "      <td>0</td>\n",
       "    </tr>\n",
       "    <tr>\n",
       "      <th>4</th>\n",
       "      <td>0</td>\n",
       "      <td>0</td>\n",
       "      <td>0</td>\n",
       "      <td>0</td>\n",
       "      <td>0</td>\n",
       "      <td>0</td>\n",
       "      <td>0</td>\n",
       "      <td>0</td>\n",
       "      <td>0</td>\n",
       "      <td>0</td>\n",
       "      <td>...</td>\n",
       "      <td>0</td>\n",
       "      <td>0</td>\n",
       "      <td>0</td>\n",
       "      <td>0</td>\n",
       "      <td>0</td>\n",
       "      <td>0</td>\n",
       "      <td>0</td>\n",
       "      <td>0</td>\n",
       "      <td>0</td>\n",
       "      <td>0</td>\n",
       "    </tr>\n",
       "  </tbody>\n",
       "</table>\n",
       "<p>5 rows × 267 columns</p>\n",
       "</div>"
      ],
      "text/plain": [
       "   ASL  Abercromby's  Ace  Alexkarbon  Allens  Anderson  Appleby  Aquire  \\\n",
       "0    0             0    0           0       0         0        0       0   \n",
       "1    0             0    0           0       0         0        0       0   \n",
       "2    0             0    0           0       0         0        0       0   \n",
       "3    0             0    0           0       0         0        0       0   \n",
       "4    0             0    0           0       0         0        0       0   \n",
       "\n",
       "   Area  Ascend  ...  Zahn  buyMyplace  hockingstuart  \\\n",
       "0     0       0  ...     0           0              0   \n",
       "1     0       0  ...     0           0              0   \n",
       "2     0       0  ...     0           0              0   \n",
       "3     0       0  ...     0           0              0   \n",
       "4     0       0  ...     0           0              0   \n",
       "\n",
       "   hockingstuart/Advantage  hockingstuart/Barry  hockingstuart/Village  iOne  \\\n",
       "0                        0                    0                      0     0   \n",
       "1                        0                    0                      0     0   \n",
       "2                        0                    0                      0     0   \n",
       "3                        0                    0                      0     0   \n",
       "4                        0                    0                      0     0   \n",
       "\n",
       "   iProperty  iSell  iTRAK  \n",
       "0          0      0      0  \n",
       "1          0      0      0  \n",
       "2          0      0      0  \n",
       "3          0      0      0  \n",
       "4          0      0      0  \n",
       "\n",
       "[5 rows x 267 columns]"
      ]
     },
     "execution_count": 34,
     "metadata": {},
     "output_type": "execute_result"
    }
   ],
   "source": [
    "#TESTING\n",
    "#CHECKING IF MY DUMMIES WORKS\n",
    "\n",
    "Seller.head()"
   ]
  },
  {
   "cell_type": "code",
   "execution_count": 35,
   "id": "55c8b1ea",
   "metadata": {},
   "outputs": [],
   "source": [
    "x=pd.concat([x,Seller,Suburb,Type,Region],axis=1)\n",
    "y=rs.Price\n",
    "\n",
    "#LET'S TAKE A LOOK"
   ]
  },
  {
   "cell_type": "code",
   "execution_count": 36,
   "id": "cd94c04e",
   "metadata": {},
   "outputs": [
    {
     "data": {
      "text/html": [
       "<div>\n",
       "<style scoped>\n",
       "    .dataframe tbody tr th:only-of-type {\n",
       "        vertical-align: middle;\n",
       "    }\n",
       "\n",
       "    .dataframe tbody tr th {\n",
       "        vertical-align: top;\n",
       "    }\n",
       "\n",
       "    .dataframe thead th {\n",
       "        text-align: right;\n",
       "    }\n",
       "</style>\n",
       "<table border=\"1\" class=\"dataframe\">\n",
       "  <thead>\n",
       "    <tr style=\"text-align: right;\">\n",
       "      <th></th>\n",
       "      <th>Rooms</th>\n",
       "      <th>Landsize</th>\n",
       "      <th>Car</th>\n",
       "      <th>Distance</th>\n",
       "      <th>ASL</th>\n",
       "      <th>Abercromby's</th>\n",
       "      <th>Ace</th>\n",
       "      <th>Alexkarbon</th>\n",
       "      <th>Allens</th>\n",
       "      <th>Anderson</th>\n",
       "      <th>...</th>\n",
       "      <th>Yarraville</th>\n",
       "      <th>t</th>\n",
       "      <th>u</th>\n",
       "      <th>Eastern Victoria</th>\n",
       "      <th>Northern Metropolitan</th>\n",
       "      <th>Northern Victoria</th>\n",
       "      <th>South-Eastern Metropolitan</th>\n",
       "      <th>Southern Metropolitan</th>\n",
       "      <th>Western Metropolitan</th>\n",
       "      <th>Western Victoria</th>\n",
       "    </tr>\n",
       "  </thead>\n",
       "  <tbody>\n",
       "    <tr>\n",
       "      <th>0</th>\n",
       "      <td>2</td>\n",
       "      <td>202</td>\n",
       "      <td>1</td>\n",
       "      <td>2</td>\n",
       "      <td>0</td>\n",
       "      <td>0</td>\n",
       "      <td>0</td>\n",
       "      <td>0</td>\n",
       "      <td>0</td>\n",
       "      <td>0</td>\n",
       "      <td>...</td>\n",
       "      <td>0</td>\n",
       "      <td>0</td>\n",
       "      <td>0</td>\n",
       "      <td>0</td>\n",
       "      <td>1</td>\n",
       "      <td>0</td>\n",
       "      <td>0</td>\n",
       "      <td>0</td>\n",
       "      <td>0</td>\n",
       "      <td>0</td>\n",
       "    </tr>\n",
       "    <tr>\n",
       "      <th>1</th>\n",
       "      <td>2</td>\n",
       "      <td>156</td>\n",
       "      <td>0</td>\n",
       "      <td>2</td>\n",
       "      <td>0</td>\n",
       "      <td>0</td>\n",
       "      <td>0</td>\n",
       "      <td>0</td>\n",
       "      <td>0</td>\n",
       "      <td>0</td>\n",
       "      <td>...</td>\n",
       "      <td>0</td>\n",
       "      <td>0</td>\n",
       "      <td>0</td>\n",
       "      <td>0</td>\n",
       "      <td>1</td>\n",
       "      <td>0</td>\n",
       "      <td>0</td>\n",
       "      <td>0</td>\n",
       "      <td>0</td>\n",
       "      <td>0</td>\n",
       "    </tr>\n",
       "    <tr>\n",
       "      <th>2</th>\n",
       "      <td>3</td>\n",
       "      <td>134</td>\n",
       "      <td>0</td>\n",
       "      <td>2</td>\n",
       "      <td>0</td>\n",
       "      <td>0</td>\n",
       "      <td>0</td>\n",
       "      <td>0</td>\n",
       "      <td>0</td>\n",
       "      <td>0</td>\n",
       "      <td>...</td>\n",
       "      <td>0</td>\n",
       "      <td>0</td>\n",
       "      <td>0</td>\n",
       "      <td>0</td>\n",
       "      <td>1</td>\n",
       "      <td>0</td>\n",
       "      <td>0</td>\n",
       "      <td>0</td>\n",
       "      <td>0</td>\n",
       "      <td>0</td>\n",
       "    </tr>\n",
       "    <tr>\n",
       "      <th>3</th>\n",
       "      <td>3</td>\n",
       "      <td>94</td>\n",
       "      <td>1</td>\n",
       "      <td>2</td>\n",
       "      <td>0</td>\n",
       "      <td>0</td>\n",
       "      <td>0</td>\n",
       "      <td>0</td>\n",
       "      <td>0</td>\n",
       "      <td>0</td>\n",
       "      <td>...</td>\n",
       "      <td>0</td>\n",
       "      <td>0</td>\n",
       "      <td>0</td>\n",
       "      <td>0</td>\n",
       "      <td>1</td>\n",
       "      <td>0</td>\n",
       "      <td>0</td>\n",
       "      <td>0</td>\n",
       "      <td>0</td>\n",
       "      <td>0</td>\n",
       "    </tr>\n",
       "    <tr>\n",
       "      <th>4</th>\n",
       "      <td>4</td>\n",
       "      <td>120</td>\n",
       "      <td>2</td>\n",
       "      <td>2</td>\n",
       "      <td>0</td>\n",
       "      <td>0</td>\n",
       "      <td>0</td>\n",
       "      <td>0</td>\n",
       "      <td>0</td>\n",
       "      <td>0</td>\n",
       "      <td>...</td>\n",
       "      <td>0</td>\n",
       "      <td>0</td>\n",
       "      <td>0</td>\n",
       "      <td>0</td>\n",
       "      <td>1</td>\n",
       "      <td>0</td>\n",
       "      <td>0</td>\n",
       "      <td>0</td>\n",
       "      <td>0</td>\n",
       "      <td>0</td>\n",
       "    </tr>\n",
       "    <tr>\n",
       "      <th>...</th>\n",
       "      <td>...</td>\n",
       "      <td>...</td>\n",
       "      <td>...</td>\n",
       "      <td>...</td>\n",
       "      <td>...</td>\n",
       "      <td>...</td>\n",
       "      <td>...</td>\n",
       "      <td>...</td>\n",
       "      <td>...</td>\n",
       "      <td>...</td>\n",
       "      <td>...</td>\n",
       "      <td>...</td>\n",
       "      <td>...</td>\n",
       "      <td>...</td>\n",
       "      <td>...</td>\n",
       "      <td>...</td>\n",
       "      <td>...</td>\n",
       "      <td>...</td>\n",
       "      <td>...</td>\n",
       "      <td>...</td>\n",
       "      <td>...</td>\n",
       "    </tr>\n",
       "    <tr>\n",
       "      <th>13575</th>\n",
       "      <td>4</td>\n",
       "      <td>652</td>\n",
       "      <td>2</td>\n",
       "      <td>16</td>\n",
       "      <td>0</td>\n",
       "      <td>0</td>\n",
       "      <td>0</td>\n",
       "      <td>0</td>\n",
       "      <td>0</td>\n",
       "      <td>0</td>\n",
       "      <td>...</td>\n",
       "      <td>0</td>\n",
       "      <td>0</td>\n",
       "      <td>0</td>\n",
       "      <td>0</td>\n",
       "      <td>0</td>\n",
       "      <td>0</td>\n",
       "      <td>1</td>\n",
       "      <td>0</td>\n",
       "      <td>0</td>\n",
       "      <td>0</td>\n",
       "    </tr>\n",
       "    <tr>\n",
       "      <th>13576</th>\n",
       "      <td>3</td>\n",
       "      <td>333</td>\n",
       "      <td>2</td>\n",
       "      <td>6</td>\n",
       "      <td>0</td>\n",
       "      <td>0</td>\n",
       "      <td>0</td>\n",
       "      <td>0</td>\n",
       "      <td>0</td>\n",
       "      <td>0</td>\n",
       "      <td>...</td>\n",
       "      <td>0</td>\n",
       "      <td>0</td>\n",
       "      <td>0</td>\n",
       "      <td>0</td>\n",
       "      <td>0</td>\n",
       "      <td>0</td>\n",
       "      <td>0</td>\n",
       "      <td>0</td>\n",
       "      <td>1</td>\n",
       "      <td>0</td>\n",
       "    </tr>\n",
       "    <tr>\n",
       "      <th>13577</th>\n",
       "      <td>3</td>\n",
       "      <td>436</td>\n",
       "      <td>4</td>\n",
       "      <td>6</td>\n",
       "      <td>0</td>\n",
       "      <td>0</td>\n",
       "      <td>0</td>\n",
       "      <td>0</td>\n",
       "      <td>0</td>\n",
       "      <td>0</td>\n",
       "      <td>...</td>\n",
       "      <td>0</td>\n",
       "      <td>0</td>\n",
       "      <td>0</td>\n",
       "      <td>0</td>\n",
       "      <td>0</td>\n",
       "      <td>0</td>\n",
       "      <td>0</td>\n",
       "      <td>0</td>\n",
       "      <td>1</td>\n",
       "      <td>0</td>\n",
       "    </tr>\n",
       "    <tr>\n",
       "      <th>13578</th>\n",
       "      <td>4</td>\n",
       "      <td>866</td>\n",
       "      <td>5</td>\n",
       "      <td>6</td>\n",
       "      <td>0</td>\n",
       "      <td>0</td>\n",
       "      <td>0</td>\n",
       "      <td>0</td>\n",
       "      <td>0</td>\n",
       "      <td>0</td>\n",
       "      <td>...</td>\n",
       "      <td>0</td>\n",
       "      <td>0</td>\n",
       "      <td>0</td>\n",
       "      <td>0</td>\n",
       "      <td>0</td>\n",
       "      <td>0</td>\n",
       "      <td>0</td>\n",
       "      <td>0</td>\n",
       "      <td>1</td>\n",
       "      <td>0</td>\n",
       "    </tr>\n",
       "    <tr>\n",
       "      <th>13579</th>\n",
       "      <td>4</td>\n",
       "      <td>362</td>\n",
       "      <td>1</td>\n",
       "      <td>6</td>\n",
       "      <td>0</td>\n",
       "      <td>0</td>\n",
       "      <td>0</td>\n",
       "      <td>0</td>\n",
       "      <td>0</td>\n",
       "      <td>0</td>\n",
       "      <td>...</td>\n",
       "      <td>1</td>\n",
       "      <td>0</td>\n",
       "      <td>0</td>\n",
       "      <td>0</td>\n",
       "      <td>0</td>\n",
       "      <td>0</td>\n",
       "      <td>0</td>\n",
       "      <td>0</td>\n",
       "      <td>1</td>\n",
       "      <td>0</td>\n",
       "    </tr>\n",
       "  </tbody>\n",
       "</table>\n",
       "<p>13580 rows × 593 columns</p>\n",
       "</div>"
      ],
      "text/plain": [
       "       Rooms  Landsize  Car  Distance  ASL  Abercromby's  Ace  Alexkarbon  \\\n",
       "0          2       202    1         2    0             0    0           0   \n",
       "1          2       156    0         2    0             0    0           0   \n",
       "2          3       134    0         2    0             0    0           0   \n",
       "3          3        94    1         2    0             0    0           0   \n",
       "4          4       120    2         2    0             0    0           0   \n",
       "...      ...       ...  ...       ...  ...           ...  ...         ...   \n",
       "13575      4       652    2        16    0             0    0           0   \n",
       "13576      3       333    2         6    0             0    0           0   \n",
       "13577      3       436    4         6    0             0    0           0   \n",
       "13578      4       866    5         6    0             0    0           0   \n",
       "13579      4       362    1         6    0             0    0           0   \n",
       "\n",
       "       Allens  Anderson  ...  Yarraville  t  u  Eastern Victoria  \\\n",
       "0           0         0  ...           0  0  0                 0   \n",
       "1           0         0  ...           0  0  0                 0   \n",
       "2           0         0  ...           0  0  0                 0   \n",
       "3           0         0  ...           0  0  0                 0   \n",
       "4           0         0  ...           0  0  0                 0   \n",
       "...       ...       ...  ...         ... .. ..               ...   \n",
       "13575       0         0  ...           0  0  0                 0   \n",
       "13576       0         0  ...           0  0  0                 0   \n",
       "13577       0         0  ...           0  0  0                 0   \n",
       "13578       0         0  ...           0  0  0                 0   \n",
       "13579       0         0  ...           1  0  0                 0   \n",
       "\n",
       "       Northern Metropolitan  Northern Victoria  South-Eastern Metropolitan  \\\n",
       "0                          1                  0                           0   \n",
       "1                          1                  0                           0   \n",
       "2                          1                  0                           0   \n",
       "3                          1                  0                           0   \n",
       "4                          1                  0                           0   \n",
       "...                      ...                ...                         ...   \n",
       "13575                      0                  0                           1   \n",
       "13576                      0                  0                           0   \n",
       "13577                      0                  0                           0   \n",
       "13578                      0                  0                           0   \n",
       "13579                      0                  0                           0   \n",
       "\n",
       "       Southern Metropolitan  Western Metropolitan  Western Victoria  \n",
       "0                          0                     0                 0  \n",
       "1                          0                     0                 0  \n",
       "2                          0                     0                 0  \n",
       "3                          0                     0                 0  \n",
       "4                          0                     0                 0  \n",
       "...                      ...                   ...               ...  \n",
       "13575                      0                     0                 0  \n",
       "13576                      0                     1                 0  \n",
       "13577                      0                     1                 0  \n",
       "13578                      0                     1                 0  \n",
       "13579                      0                     1                 0  \n",
       "\n",
       "[13580 rows x 593 columns]"
      ]
     },
     "execution_count": 36,
     "metadata": {},
     "output_type": "execute_result"
    }
   ],
   "source": [
    "x"
   ]
  },
  {
   "cell_type": "code",
   "execution_count": 37,
   "id": "b03cb6d8",
   "metadata": {},
   "outputs": [
    {
     "data": {
      "text/plain": [
       "0        1480000\n",
       "1        1035000\n",
       "2        1465000\n",
       "3         850000\n",
       "4        1600000\n",
       "          ...   \n",
       "13575    1245000\n",
       "13576    1031000\n",
       "13577    1170000\n",
       "13578    2500000\n",
       "13579    1285000\n",
       "Name: Price, Length: 13580, dtype: int64"
      ]
     },
     "execution_count": 37,
     "metadata": {},
     "output_type": "execute_result"
    }
   ],
   "source": [
    "y"
   ]
  },
  {
   "cell_type": "code",
   "execution_count": 38,
   "id": "d000ede6",
   "metadata": {},
   "outputs": [
    {
     "data": {
      "text/plain": [
       "9"
      ]
     },
     "execution_count": 38,
     "metadata": {},
     "output_type": "execute_result"
    }
   ],
   "source": [
    "#checking the unique values so i can decide the outliers\n",
    "rs.Rooms.nunique()"
   ]
  },
  {
   "cell_type": "code",
   "execution_count": 39,
   "id": "d2e40bb6",
   "metadata": {},
   "outputs": [
    {
     "name": "stdout",
     "output_type": "stream",
     "text": [
      "(array([11304], dtype=int64),)\n"
     ]
    }
   ],
   "source": [
    "#show colmn with this problem\n",
    "\n",
    "print(np.where(rs['Rooms'] ==10 ))"
   ]
  },
  {
   "cell_type": "code",
   "execution_count": 40,
   "id": "0c5b0528",
   "metadata": {},
   "outputs": [
    {
     "name": "stdout",
     "output_type": "stream",
     "text": [
      "(array([ 3616,  6372,  7692,  9575, 12094, 12557], dtype=int64),)\n"
     ]
    }
   ],
   "source": [
    "#show colmn with this problem\n",
    "print(np.where(rs['Price']>6000000))"
   ]
  },
  {
   "cell_type": "code",
   "execution_count": 41,
   "id": "d70cd21a",
   "metadata": {},
   "outputs": [],
   "source": [
    "# Drop the column with outliers index\n",
    "rs.drop(rs.index[[3616,  6372,  7692,  9575,11304, 12094, 12557]], inplace= True, axis=0)"
   ]
  },
  {
   "cell_type": "code",
   "execution_count": 42,
   "id": "7603d25c",
   "metadata": {},
   "outputs": [
    {
     "data": {
      "text/plain": [
       "Text(0.5, 1.0, 'the relation between rooms and price')"
      ]
     },
     "execution_count": 42,
     "metadata": {},
     "output_type": "execute_result"
    },
    {
     "data": {
      "image/png": "[encoded data removed]",
      "text/plain": [
       "<Figure size 432x288 with 1 Axes>"
      ]
     },
     "metadata": {
      "needs_background": "light"
     },
     "output_type": "display_data"
    }
   ],
   "source": [
    "#show the relation between rooms and price after drop outliers index\n",
    "\n",
    "plt.scatter(rs.Rooms,rs.Price,c='y',zorder=3)\n",
    "plt.title(\"the relation between rooms and price\") # Change title for the plot\n"
   ]
  },
  {
   "cell_type": "code",
   "execution_count": 43,
   "id": "afe54c28",
   "metadata": {},
   "outputs": [
    {
     "data": {
      "image/png": "[encoded data removed]",
      "text/plain": [
       "<Figure size 777.6x648 with 30 Axes>"
      ]
     },
     "metadata": {
      "needs_background": "light"
     },
     "output_type": "display_data"
    }
   ],
   "source": [
    "#Plot all of the variable-to-variable relations as scatterplots\n",
    "sns.pairplot(rs, height=1.8, aspect=1.2, kind='hist',palette=None);\n"
   ]
  },
  {
   "cell_type": "markdown",
   "id": "af6d05a9",
   "metadata": {},
   "source": [
    "# MODELING\n",
    "we wil use Linear Regression model"
   ]
  },
  {
   "cell_type": "code",
   "execution_count": 44,
   "id": "deb92e6c",
   "metadata": {},
   "outputs": [],
   "source": [
    "x_train,x_test,y_train,y_test=train_test_split(x,y,test_size=0.2,random_state=0)\n",
    "\n",
    "#Models were called and trained on data from the Scikit-lear\n",
    "#The data was divided into 80 training set and 20 test set to train the models on this data"
   ]
  },
  {
   "cell_type": "code",
   "execution_count": 45,
   "id": "14a7d898",
   "metadata": {},
   "outputs": [
    {
     "name": "stdout",
     "output_type": "stream",
     "text": [
      "x_train:  (10864, 593)\n",
      "y_train:  (10864,)\n",
      "x_test:  (2716, 593)\n",
      "y_test:   (2716,)\n"
     ]
    }
   ],
   "source": [
    "print(\"x_train: \", x_train.shape)\n",
    "print(\"y_train: \", y_train.shape)\n",
    "print(\"x_test: \", x_test.shape)\n",
    "print(\"y_test:  \", y_test.shape)"
   ]
  },
  {
   "cell_type": "code",
   "execution_count": 46,
   "id": "0fe67658",
   "metadata": {},
   "outputs": [
    {
     "data": {
      "text/plain": [
       "array([1719783.65682531,  775734.96524912,  708875.46964078, ...,\n",
       "       1023632.7746447 , 1660558.92000466, 1206487.78482457])"
      ]
     },
     "execution_count": 46,
     "metadata": {},
     "output_type": "execute_result"
    }
   ],
   "source": [
    "# Initialize model object\n",
    "\n",
    "lr = LinearRegression()\n",
    "\n",
    "# fit model\n",
    "fitted_lr = lr.fit(x_train, y_train)\n",
    "\n",
    "# make predictions\n",
    "predictions = lr.predict(x_test)\n",
    "predictions"
   ]
  },
  {
   "cell_type": "code",
   "execution_count": 47,
   "id": "deccf320",
   "metadata": {},
   "outputs": [
    {
     "data": {
      "text/plain": [
       "<matplotlib.collections.PathCollection at 0x15f56f52400>"
      ]
     },
     "execution_count": 47,
     "metadata": {},
     "output_type": "execute_result"
    },
    {
     "data": {
      "image/png": "[encoded data removed]",
      "text/plain": [
       "<Figure size 432x288 with 1 Axes>"
      ]
     },
     "metadata": {},
     "output_type": "display_data"
    }
   ],
   "source": [
    "sns.set_style(\"darkgrid\", {'grid.linestyle': '-','axes.facecolor':'lavender'})\n",
    "\n",
    "plt.scatter(y_test,predictions)\n"
   ]
  },
  {
   "cell_type": "code",
   "execution_count": 48,
   "id": "8a58901d",
   "metadata": {},
   "outputs": [
    {
     "name": "stdout",
     "output_type": "stream",
     "text": [
      "Linear Regression R^2 Score testing set:  0.6657847284832492\n"
     ]
    }
   ],
   "source": [
    "#findout the R square for testing set\n",
    "r2_lr=r2_score(y_test, predictions)\n",
    "print(\"Linear Regression R^2 Score testing set: \", r2_lr)"
   ]
  },
  {
   "cell_type": "code",
   "execution_count": 49,
   "id": "11a0a6e8",
   "metadata": {},
   "outputs": [
    {
     "name": "stdout",
     "output_type": "stream",
     "text": [
      "Linear Regression R^2 Score trining set:  0.685533710973137\n"
     ]
    }
   ],
   "source": [
    "#findout the R square for training set\n",
    "t_2= lr.score(x_train, y_train)\n",
    "print(\"Linear Regression R^2 Score trining set: \", t_2)"
   ]
  },
  {
   "cell_type": "code",
   "execution_count": 50,
   "id": "5f09093d",
   "metadata": {},
   "outputs": [
    {
     "data": {
      "text/plain": [
       "0.6711737456725879"
      ]
     },
     "execution_count": 50,
     "metadata": {},
     "output_type": "execute_result"
    }
   ],
   "source": [
    "#findout the Adj R square for training set\n",
    "adjusted_r_squared_1 = 1 - (1-(t_2))*(len(y)-1)/(len(y)-x.shape[1]-1)\n",
    "adjusted_r_squared_1"
   ]
  },
  {
   "cell_type": "code",
   "execution_count": 51,
   "id": "1793bff8",
   "metadata": {},
   "outputs": [
    {
     "data": {
      "text/plain": [
       "0.6505229345505961"
      ]
     },
     "execution_count": 51,
     "metadata": {},
     "output_type": "execute_result"
    }
   ],
   "source": [
    "#findout the Adj R square for testing set\n",
    "adjusted_r_squared_2 = 1 - (1-(r2_lr))*(len(y)-1)/(len(y)-x.shape[1]-1)\n",
    "adjusted_r_squared_2"
   ]
  },
  {
   "cell_type": "code",
   "execution_count": 52,
   "id": "a0ca71cf",
   "metadata": {},
   "outputs": [
    {
     "name": "stdout",
     "output_type": "stream",
     "text": [
      "Linear Regression R^2 Score:  0.7\n"
     ]
    }
   ],
   "source": [
    "#Score model\n",
    "print(\"Linear Regression R^2 Score: \", round(fitted_lr.score(x_test, y_test), ndigits=1))"
   ]
  },
  {
   "cell_type": "markdown",
   "id": "318d91fb",
   "metadata": {},
   "source": [
    "# THANK YOU ALL FOR YOUR ATTENTION."
   ]
  },
  {
   "cell_type": "code",
   "execution_count": null,
   "id": "27f1de2f",
   "metadata": {},
   "outputs": [],
   "source": []
  }
 ],
 "metadata": {
  "kernelspec": {
   "display_name": "Python 3",
   "language": "python",
   "name": "python3"
  },
  "language_info": {
   "codemirror_mode": {
    "name": "ipython",
    "version": 3
   },
   "file_extension": ".py",
   "mimetype": "text/x-python",
   "name": "python",
   "nbconvert_exporter": "python",
   "pygments_lexer": "ipython3",
   "version": "3.8.8"
  }
 },
 "nbformat": 4,
 "nbformat_minor": 5
}
