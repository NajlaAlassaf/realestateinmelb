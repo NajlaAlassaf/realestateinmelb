{
 "cells": [
  {
   "cell_type": "markdown",
   "id": "5099a563",
   "metadata": {},
   "source": [
    "# This project is proposed for SDAIA T5 Data Science Bootcamp"
   ]
  },
  {
   "cell_type": "markdown",
   "id": "189d3a69",
   "metadata": {},
   "source": [
    "by NAJLA ALASSAF"
   ]
  },
  {
   "cell_type": "markdown",
   "id": "6b1fb6a3",
   "metadata": {},
   "source": [
    "# Predict Real Estate Prices In Melbourne"
   ]
  },
  {
   "cell_type": "code",
   "execution_count": 208,
   "id": "2089939e",
   "metadata": {},
   "outputs": [
    {
     "name": "stdout",
     "output_type": "stream",
     "text": [
      "Populating the interactive namespace from numpy and matplotlib\n"
     ]
    }
   ],
   "source": [
    "#Import libraries\n",
    "\n",
    "import pandas as pd\n",
    "import numpy as np\n",
    "import matplotlib.pyplot as plt\n",
    "import seaborn as sns\n",
    "\n",
    "from sklearn.tree import DecisionTreeRegressor\n",
    "from sklearn.metrics import mean_squared_error, r2_score\n",
    "from sklearn.linear_model import LinearRegression  \n",
    "import statsmodels as sm\n",
    "\n",
    "from sklearn.model_selection import train_test_split\n",
    "\n",
    "sns.set_theme(style=\"whitegrid\")\n",
    "\n",
    "sns.set_style(\"whitegrid\", {\"font.family\": [\"serif\"]})\n",
    "sns.set_context(\"talk\") \n",
    "%pylab inline"
   ]
  },
  {
   "cell_type": "code",
   "execution_count": 209,
   "id": "ef4d6887",
   "metadata": {},
   "outputs": [],
   "source": [
    "#Load dataset into a dataframe\n",
    "\n",
    "rs =pd.read_csv('melb_data.csv', index_col=None)"
   ]
  },
  {
   "cell_type": "code",
   "execution_count": 210,
   "id": "a1032b67",
   "metadata": {},
   "outputs": [
    {
     "data": {
      "text/html": [
       "<div>\n",
       "<style scoped>\n",
       "    .dataframe tbody tr th:only-of-type {\n",
       "        vertical-align: middle;\n",
       "    }\n",
       "\n",
       "    .dataframe tbody tr th {\n",
       "        vertical-align: top;\n",
       "    }\n",
       "\n",
       "    .dataframe thead th {\n",
       "        text-align: right;\n",
       "    }\n",
       "</style>\n",
       "<table border=\"1\" class=\"dataframe\">\n",
       "  <thead>\n",
       "    <tr style=\"text-align: right;\">\n",
       "      <th></th>\n",
       "      <th>SellerG</th>\n",
       "      <th>Suburb</th>\n",
       "      <th>Address</th>\n",
       "      <th>Rooms</th>\n",
       "      <th>Type</th>\n",
       "      <th>Price</th>\n",
       "      <th>Method</th>\n",
       "      <th>Distance</th>\n",
       "      <th>Postcode</th>\n",
       "      <th>Bedroom2</th>\n",
       "      <th>Bathroom</th>\n",
       "      <th>Car</th>\n",
       "      <th>Landsize</th>\n",
       "      <th>BuildingArea</th>\n",
       "      <th>YearBuilt</th>\n",
       "      <th>CouncilArea</th>\n",
       "      <th>Regionname</th>\n",
       "      <th>Propertycount</th>\n",
       "    </tr>\n",
       "  </thead>\n",
       "  <tbody>\n",
       "    <tr>\n",
       "      <th>0</th>\n",
       "      <td>Biggin</td>\n",
       "      <td>Abbotsford</td>\n",
       "      <td>85 Turner St</td>\n",
       "      <td>2</td>\n",
       "      <td>h</td>\n",
       "      <td>1480000</td>\n",
       "      <td>S</td>\n",
       "      <td>2.5</td>\n",
       "      <td>3067</td>\n",
       "      <td>2</td>\n",
       "      <td>1</td>\n",
       "      <td>1.0</td>\n",
       "      <td>202</td>\n",
       "      <td>NaN</td>\n",
       "      <td>NaN</td>\n",
       "      <td>Yarra</td>\n",
       "      <td>Northern Metropolitan</td>\n",
       "      <td>4019</td>\n",
       "    </tr>\n",
       "    <tr>\n",
       "      <th>1</th>\n",
       "      <td>Biggin</td>\n",
       "      <td>Abbotsford</td>\n",
       "      <td>25 Bloomburg St</td>\n",
       "      <td>2</td>\n",
       "      <td>h</td>\n",
       "      <td>1035000</td>\n",
       "      <td>S</td>\n",
       "      <td>2.5</td>\n",
       "      <td>3067</td>\n",
       "      <td>2</td>\n",
       "      <td>1</td>\n",
       "      <td>0.0</td>\n",
       "      <td>156</td>\n",
       "      <td>79.0</td>\n",
       "      <td>1900.0</td>\n",
       "      <td>Yarra</td>\n",
       "      <td>Northern Metropolitan</td>\n",
       "      <td>4019</td>\n",
       "    </tr>\n",
       "    <tr>\n",
       "      <th>2</th>\n",
       "      <td>Biggin</td>\n",
       "      <td>Abbotsford</td>\n",
       "      <td>5 Charles St</td>\n",
       "      <td>3</td>\n",
       "      <td>h</td>\n",
       "      <td>1465000</td>\n",
       "      <td>SP</td>\n",
       "      <td>2.5</td>\n",
       "      <td>3067</td>\n",
       "      <td>3</td>\n",
       "      <td>2</td>\n",
       "      <td>0.0</td>\n",
       "      <td>134</td>\n",
       "      <td>150.0</td>\n",
       "      <td>1900.0</td>\n",
       "      <td>Yarra</td>\n",
       "      <td>Northern Metropolitan</td>\n",
       "      <td>4019</td>\n",
       "    </tr>\n",
       "    <tr>\n",
       "      <th>3</th>\n",
       "      <td>Biggin</td>\n",
       "      <td>Abbotsford</td>\n",
       "      <td>40 Federation La</td>\n",
       "      <td>3</td>\n",
       "      <td>h</td>\n",
       "      <td>850000</td>\n",
       "      <td>PI</td>\n",
       "      <td>2.5</td>\n",
       "      <td>3067</td>\n",
       "      <td>3</td>\n",
       "      <td>2</td>\n",
       "      <td>1.0</td>\n",
       "      <td>94</td>\n",
       "      <td>NaN</td>\n",
       "      <td>NaN</td>\n",
       "      <td>Yarra</td>\n",
       "      <td>Northern Metropolitan</td>\n",
       "      <td>4019</td>\n",
       "    </tr>\n",
       "    <tr>\n",
       "      <th>4</th>\n",
       "      <td>Nelson</td>\n",
       "      <td>Abbotsford</td>\n",
       "      <td>55a Park St</td>\n",
       "      <td>4</td>\n",
       "      <td>h</td>\n",
       "      <td>1600000</td>\n",
       "      <td>VB</td>\n",
       "      <td>2.5</td>\n",
       "      <td>3067</td>\n",
       "      <td>3</td>\n",
       "      <td>1</td>\n",
       "      <td>2.0</td>\n",
       "      <td>120</td>\n",
       "      <td>142.0</td>\n",
       "      <td>2014.0</td>\n",
       "      <td>Yarra</td>\n",
       "      <td>Northern Metropolitan</td>\n",
       "      <td>4019</td>\n",
       "    </tr>\n",
       "  </tbody>\n",
       "</table>\n",
       "</div>"
      ],
      "text/plain": [
       "  SellerG      Suburb           Address  Rooms Type    Price Method  Distance  \\\n",
       "0  Biggin  Abbotsford      85 Turner St      2    h  1480000      S       2.5   \n",
       "1  Biggin  Abbotsford   25 Bloomburg St      2    h  1035000      S       2.5   \n",
       "2  Biggin  Abbotsford      5 Charles St      3    h  1465000     SP       2.5   \n",
       "3  Biggin  Abbotsford  40 Federation La      3    h   850000     PI       2.5   \n",
       "4  Nelson  Abbotsford       55a Park St      4    h  1600000     VB       2.5   \n",
       "\n",
       "   Postcode  Bedroom2  Bathroom  Car  Landsize  BuildingArea  YearBuilt  \\\n",
       "0      3067         2         1  1.0       202           NaN        NaN   \n",
       "1      3067         2         1  0.0       156          79.0     1900.0   \n",
       "2      3067         3         2  0.0       134         150.0     1900.0   \n",
       "3      3067         3         2  1.0        94           NaN        NaN   \n",
       "4      3067         3         1  2.0       120         142.0     2014.0   \n",
       "\n",
       "  CouncilArea             Regionname  Propertycount  \n",
       "0       Yarra  Northern Metropolitan           4019  \n",
       "1       Yarra  Northern Metropolitan           4019  \n",
       "2       Yarra  Northern Metropolitan           4019  \n",
       "3       Yarra  Northern Metropolitan           4019  \n",
       "4       Yarra  Northern Metropolitan           4019  "
      ]
     },
     "execution_count": 210,
     "metadata": {},
     "output_type": "execute_result"
    }
   ],
   "source": [
    "#show the first few rows\n",
    "rs.head()"
   ]
  },
  {
   "cell_type": "markdown",
   "id": "65ac66b0",
   "metadata": {},
   "source": [
    "You can see we have more than one columns are not usful for our project, so we will delete the unnecessary columns."
   ]
  },
  {
   "cell_type": "code",
   "execution_count": 211,
   "id": "6f9866b9",
   "metadata": {},
   "outputs": [],
   "source": [
    "rs.drop(columns= [\"Postcode\",\"Bedroom2\",\"Bathroom\", \"Address\", \"YearBuilt\", \"CouncilArea\", \"Propertycount\", \"BuildingArea\"] ,\n",
    "        inplace = True)"
   ]
  },
  {
   "cell_type": "code",
   "execution_count": 212,
   "id": "abd001e7",
   "metadata": {},
   "outputs": [
    {
     "name": "stdout",
     "output_type": "stream",
     "text": [
      "<class 'pandas.core.frame.DataFrame'>\n",
      "RangeIndex: 13580 entries, 0 to 13579\n",
      "Data columns (total 10 columns):\n",
      " #   Column      Non-Null Count  Dtype  \n",
      "---  ------      --------------  -----  \n",
      " 0   SellerG     13580 non-null  object \n",
      " 1   Suburb      13580 non-null  object \n",
      " 2   Rooms       13580 non-null  int64  \n",
      " 3   Type        13580 non-null  object \n",
      " 4   Price       13580 non-null  int64  \n",
      " 5   Method      13580 non-null  object \n",
      " 6   Distance    13580 non-null  float64\n",
      " 7   Car         13518 non-null  float64\n",
      " 8   Landsize    13580 non-null  int64  \n",
      " 9   Regionname  13580 non-null  object \n",
      "dtypes: float64(2), int64(3), object(5)\n",
      "memory usage: 1.0+ MB\n"
     ]
    }
   ],
   "source": [
    "#let's examine the datatypes searching for the null values & number of columns and rows and its datatype\n",
    "rs.info()"
   ]
  },
  {
   "cell_type": "markdown",
   "id": "851e6fe6",
   "metadata": {},
   "source": [
    "Outcomes:\n",
    "\n",
    "- This shows that we have 10 columns and we have 13579 record.\n",
    "- None of the data fields have NULL values.\n",
    "- Datatype should be changed for both \"Distance\" and \"Car\", we will convert it to an integer.\n"
   ]
  },
  {
   "cell_type": "code",
   "execution_count": 213,
   "id": "e5cf6179",
   "metadata": {},
   "outputs": [
    {
     "data": {
      "text/plain": [
       "SellerG        0\n",
       "Suburb         0\n",
       "Rooms          0\n",
       "Type           0\n",
       "Price          0\n",
       "Method         0\n",
       "Distance       0\n",
       "Car           62\n",
       "Landsize       0\n",
       "Regionname     0\n",
       "dtype: int64"
      ]
     },
     "execution_count": 213,
     "metadata": {},
     "output_type": "execute_result"
    }
   ],
   "source": [
    "#making sure there is no null values\n",
    "rs.isna().sum()"
   ]
  },
  {
   "cell_type": "code",
   "execution_count": 214,
   "id": "3fbbcbd4",
   "metadata": {},
   "outputs": [],
   "source": [
    "#it seems there are some null values in 'Car' column so we will replace the null values with 0\n",
    "rs[\"Car\"].fillna(0, inplace = True)"
   ]
  },
  {
   "cell_type": "code",
   "execution_count": 215,
   "id": "942f033d",
   "metadata": {},
   "outputs": [
    {
     "data": {
      "text/plain": [
       "SellerG       False\n",
       "Suburb        False\n",
       "Rooms         False\n",
       "Type          False\n",
       "Price         False\n",
       "Method        False\n",
       "Distance      False\n",
       "Car           False\n",
       "Landsize      False\n",
       "Regionname    False\n",
       "dtype: bool"
      ]
     },
     "execution_count": 215,
     "metadata": {},
     "output_type": "execute_result"
    }
   ],
   "source": [
    "rs.isna().any()"
   ]
  },
  {
   "cell_type": "code",
   "execution_count": 216,
   "id": "1527114f",
   "metadata": {},
   "outputs": [],
   "source": [
    "#convert distance column 'distance' from float to integer \n",
    "rs['Distance'] = rs.Distance.astype('int64')\n",
    "rs['Car'] = rs.Car.astype('int64')"
   ]
  },
  {
   "cell_type": "markdown",
   "id": "ab95ced3",
   "metadata": {},
   "source": [
    "Now we have no *null values* & the colmuns names are valid Python variables & datatype are the same. \n"
   ]
  },
  {
   "cell_type": "code",
   "execution_count": 217,
   "id": "9b4f0376",
   "metadata": {},
   "outputs": [
    {
     "data": {
      "text/plain": [
       "SellerG       object\n",
       "Suburb        object\n",
       "Rooms          int64\n",
       "Type          object\n",
       "Price          int64\n",
       "Method        object\n",
       "Distance       int64\n",
       "Car            int64\n",
       "Landsize       int64\n",
       "Regionname    object\n",
       "dtype: object"
      ]
     },
     "execution_count": 217,
     "metadata": {},
     "output_type": "execute_result"
    }
   ],
   "source": [
    "# View column data types\n",
    "rs.dtypes"
   ]
  },
  {
   "cell_type": "markdown",
   "id": "83c9784c",
   "metadata": {},
   "source": [
    "How many rows and columns does the dataset have?"
   ]
  },
  {
   "cell_type": "code",
   "execution_count": 218,
   "id": "144b1790",
   "metadata": {},
   "outputs": [
    {
     "data": {
      "text/plain": [
       "(13580, 10)"
      ]
     },
     "execution_count": 218,
     "metadata": {},
     "output_type": "execute_result"
    }
   ],
   "source": [
    "rs.shape"
   ]
  },
  {
   "cell_type": "code",
   "execution_count": 219,
   "id": "1fb0dcc7",
   "metadata": {},
   "outputs": [
    {
     "data": {
      "text/html": [
       "<div>\n",
       "<style scoped>\n",
       "    .dataframe tbody tr th:only-of-type {\n",
       "        vertical-align: middle;\n",
       "    }\n",
       "\n",
       "    .dataframe tbody tr th {\n",
       "        vertical-align: top;\n",
       "    }\n",
       "\n",
       "    .dataframe thead th {\n",
       "        text-align: right;\n",
       "    }\n",
       "</style>\n",
       "<table border=\"1\" class=\"dataframe\">\n",
       "  <thead>\n",
       "    <tr style=\"text-align: right;\">\n",
       "      <th></th>\n",
       "      <th>SellerG</th>\n",
       "      <th>Suburb</th>\n",
       "      <th>Rooms</th>\n",
       "      <th>Type</th>\n",
       "      <th>Price</th>\n",
       "      <th>Method</th>\n",
       "      <th>Distance</th>\n",
       "      <th>Car</th>\n",
       "      <th>Landsize</th>\n",
       "      <th>Regionname</th>\n",
       "    </tr>\n",
       "  </thead>\n",
       "  <tbody>\n",
       "    <tr>\n",
       "      <th>count</th>\n",
       "      <td>13580</td>\n",
       "      <td>13580</td>\n",
       "      <td>13580.000000</td>\n",
       "      <td>13580</td>\n",
       "      <td>1.358000e+04</td>\n",
       "      <td>13580</td>\n",
       "      <td>13580.000000</td>\n",
       "      <td>13580.000000</td>\n",
       "      <td>13580.000000</td>\n",
       "      <td>13580</td>\n",
       "    </tr>\n",
       "    <tr>\n",
       "      <th>unique</th>\n",
       "      <td>268</td>\n",
       "      <td>314</td>\n",
       "      <td>NaN</td>\n",
       "      <td>3</td>\n",
       "      <td>NaN</td>\n",
       "      <td>5</td>\n",
       "      <td>NaN</td>\n",
       "      <td>NaN</td>\n",
       "      <td>NaN</td>\n",
       "      <td>8</td>\n",
       "    </tr>\n",
       "    <tr>\n",
       "      <th>top</th>\n",
       "      <td>Nelson</td>\n",
       "      <td>Reservoir</td>\n",
       "      <td>NaN</td>\n",
       "      <td>h</td>\n",
       "      <td>NaN</td>\n",
       "      <td>S</td>\n",
       "      <td>NaN</td>\n",
       "      <td>NaN</td>\n",
       "      <td>NaN</td>\n",
       "      <td>Southern Metropolitan</td>\n",
       "    </tr>\n",
       "    <tr>\n",
       "      <th>freq</th>\n",
       "      <td>1565</td>\n",
       "      <td>359</td>\n",
       "      <td>NaN</td>\n",
       "      <td>9449</td>\n",
       "      <td>NaN</td>\n",
       "      <td>9022</td>\n",
       "      <td>NaN</td>\n",
       "      <td>NaN</td>\n",
       "      <td>NaN</td>\n",
       "      <td>4695</td>\n",
       "    </tr>\n",
       "    <tr>\n",
       "      <th>mean</th>\n",
       "      <td>NaN</td>\n",
       "      <td>NaN</td>\n",
       "      <td>2.937997</td>\n",
       "      <td>NaN</td>\n",
       "      <td>1.075684e+06</td>\n",
       "      <td>NaN</td>\n",
       "      <td>9.689912</td>\n",
       "      <td>1.602725</td>\n",
       "      <td>558.416127</td>\n",
       "      <td>NaN</td>\n",
       "    </tr>\n",
       "    <tr>\n",
       "      <th>std</th>\n",
       "      <td>NaN</td>\n",
       "      <td>NaN</td>\n",
       "      <td>0.955748</td>\n",
       "      <td>NaN</td>\n",
       "      <td>6.393107e+05</td>\n",
       "      <td>NaN</td>\n",
       "      <td>5.876915</td>\n",
       "      <td>0.966548</td>\n",
       "      <td>3990.669241</td>\n",
       "      <td>NaN</td>\n",
       "    </tr>\n",
       "    <tr>\n",
       "      <th>min</th>\n",
       "      <td>NaN</td>\n",
       "      <td>NaN</td>\n",
       "      <td>1.000000</td>\n",
       "      <td>NaN</td>\n",
       "      <td>8.500000e+04</td>\n",
       "      <td>NaN</td>\n",
       "      <td>0.000000</td>\n",
       "      <td>0.000000</td>\n",
       "      <td>0.000000</td>\n",
       "      <td>NaN</td>\n",
       "    </tr>\n",
       "    <tr>\n",
       "      <th>25%</th>\n",
       "      <td>NaN</td>\n",
       "      <td>NaN</td>\n",
       "      <td>2.000000</td>\n",
       "      <td>NaN</td>\n",
       "      <td>6.500000e+05</td>\n",
       "      <td>NaN</td>\n",
       "      <td>6.000000</td>\n",
       "      <td>1.000000</td>\n",
       "      <td>177.000000</td>\n",
       "      <td>NaN</td>\n",
       "    </tr>\n",
       "    <tr>\n",
       "      <th>50%</th>\n",
       "      <td>NaN</td>\n",
       "      <td>NaN</td>\n",
       "      <td>3.000000</td>\n",
       "      <td>NaN</td>\n",
       "      <td>9.030000e+05</td>\n",
       "      <td>NaN</td>\n",
       "      <td>9.000000</td>\n",
       "      <td>2.000000</td>\n",
       "      <td>440.000000</td>\n",
       "      <td>NaN</td>\n",
       "    </tr>\n",
       "    <tr>\n",
       "      <th>75%</th>\n",
       "      <td>NaN</td>\n",
       "      <td>NaN</td>\n",
       "      <td>3.000000</td>\n",
       "      <td>NaN</td>\n",
       "      <td>1.330000e+06</td>\n",
       "      <td>NaN</td>\n",
       "      <td>13.000000</td>\n",
       "      <td>2.000000</td>\n",
       "      <td>651.000000</td>\n",
       "      <td>NaN</td>\n",
       "    </tr>\n",
       "    <tr>\n",
       "      <th>max</th>\n",
       "      <td>NaN</td>\n",
       "      <td>NaN</td>\n",
       "      <td>10.000000</td>\n",
       "      <td>NaN</td>\n",
       "      <td>9.000000e+06</td>\n",
       "      <td>NaN</td>\n",
       "      <td>48.000000</td>\n",
       "      <td>10.000000</td>\n",
       "      <td>433014.000000</td>\n",
       "      <td>NaN</td>\n",
       "    </tr>\n",
       "  </tbody>\n",
       "</table>\n",
       "</div>"
      ],
      "text/plain": [
       "       SellerG     Suburb         Rooms   Type         Price Method  \\\n",
       "count    13580      13580  13580.000000  13580  1.358000e+04  13580   \n",
       "unique     268        314           NaN      3           NaN      5   \n",
       "top     Nelson  Reservoir           NaN      h           NaN      S   \n",
       "freq      1565        359           NaN   9449           NaN   9022   \n",
       "mean       NaN        NaN      2.937997    NaN  1.075684e+06    NaN   \n",
       "std        NaN        NaN      0.955748    NaN  6.393107e+05    NaN   \n",
       "min        NaN        NaN      1.000000    NaN  8.500000e+04    NaN   \n",
       "25%        NaN        NaN      2.000000    NaN  6.500000e+05    NaN   \n",
       "50%        NaN        NaN      3.000000    NaN  9.030000e+05    NaN   \n",
       "75%        NaN        NaN      3.000000    NaN  1.330000e+06    NaN   \n",
       "max        NaN        NaN     10.000000    NaN  9.000000e+06    NaN   \n",
       "\n",
       "            Distance           Car       Landsize             Regionname  \n",
       "count   13580.000000  13580.000000   13580.000000                  13580  \n",
       "unique           NaN           NaN            NaN                      8  \n",
       "top              NaN           NaN            NaN  Southern Metropolitan  \n",
       "freq             NaN           NaN            NaN                   4695  \n",
       "mean        9.689912      1.602725     558.416127                    NaN  \n",
       "std         5.876915      0.966548    3990.669241                    NaN  \n",
       "min         0.000000      0.000000       0.000000                    NaN  \n",
       "25%         6.000000      1.000000     177.000000                    NaN  \n",
       "50%         9.000000      2.000000     440.000000                    NaN  \n",
       "75%        13.000000      2.000000     651.000000                    NaN  \n",
       "max        48.000000     10.000000  433014.000000                    NaN  "
      ]
     },
     "execution_count": 219,
     "metadata": {},
     "output_type": "execute_result"
    }
   ],
   "source": [
    "rs.describe(include=\"all\")"
   ]
  },
  {
   "cell_type": "code",
   "execution_count": 220,
   "id": "944c6a34",
   "metadata": {},
   "outputs": [
    {
     "data": {
      "text/html": [
       "<div>\n",
       "<style scoped>\n",
       "    .dataframe tbody tr th:only-of-type {\n",
       "        vertical-align: middle;\n",
       "    }\n",
       "\n",
       "    .dataframe tbody tr th {\n",
       "        vertical-align: top;\n",
       "    }\n",
       "\n",
       "    .dataframe thead th {\n",
       "        text-align: right;\n",
       "    }\n",
       "</style>\n",
       "<table border=\"1\" class=\"dataframe\">\n",
       "  <thead>\n",
       "    <tr style=\"text-align: right;\">\n",
       "      <th></th>\n",
       "      <th>SellerG</th>\n",
       "      <th>Suburb</th>\n",
       "      <th>Rooms</th>\n",
       "      <th>Type</th>\n",
       "      <th>Price</th>\n",
       "      <th>Method</th>\n",
       "      <th>Distance</th>\n",
       "      <th>Car</th>\n",
       "      <th>Landsize</th>\n",
       "      <th>Regionname</th>\n",
       "    </tr>\n",
       "  </thead>\n",
       "  <tbody>\n",
       "    <tr>\n",
       "      <th>461</th>\n",
       "      <td>Nelson</td>\n",
       "      <td>Avondale Heights</td>\n",
       "      <td>3</td>\n",
       "      <td>h</td>\n",
       "      <td>845000</td>\n",
       "      <td>S</td>\n",
       "      <td>10</td>\n",
       "      <td>3</td>\n",
       "      <td>704</td>\n",
       "      <td>Western Metropolitan</td>\n",
       "    </tr>\n",
       "    <tr>\n",
       "      <th>11712</th>\n",
       "      <td>LITTLE</td>\n",
       "      <td>Hughesdale</td>\n",
       "      <td>2</td>\n",
       "      <td>u</td>\n",
       "      <td>472000</td>\n",
       "      <td>S</td>\n",
       "      <td>12</td>\n",
       "      <td>1</td>\n",
       "      <td>0</td>\n",
       "      <td>Southern Metropolitan</td>\n",
       "    </tr>\n",
       "    <tr>\n",
       "      <th>7826</th>\n",
       "      <td>Woodards</td>\n",
       "      <td>Fairfield</td>\n",
       "      <td>3</td>\n",
       "      <td>h</td>\n",
       "      <td>1500000</td>\n",
       "      <td>PI</td>\n",
       "      <td>5</td>\n",
       "      <td>2</td>\n",
       "      <td>574</td>\n",
       "      <td>Northern Metropolitan</td>\n",
       "    </tr>\n",
       "    <tr>\n",
       "      <th>8641</th>\n",
       "      <td>Rendina</td>\n",
       "      <td>Kensington</td>\n",
       "      <td>3</td>\n",
       "      <td>h</td>\n",
       "      <td>902500</td>\n",
       "      <td>S</td>\n",
       "      <td>4</td>\n",
       "      <td>1</td>\n",
       "      <td>0</td>\n",
       "      <td>Northern Metropolitan</td>\n",
       "    </tr>\n",
       "    <tr>\n",
       "      <th>10311</th>\n",
       "      <td>Stockdale</td>\n",
       "      <td>Hadfield</td>\n",
       "      <td>3</td>\n",
       "      <td>h</td>\n",
       "      <td>870000</td>\n",
       "      <td>S</td>\n",
       "      <td>11</td>\n",
       "      <td>6</td>\n",
       "      <td>700</td>\n",
       "      <td>Northern Metropolitan</td>\n",
       "    </tr>\n",
       "  </tbody>\n",
       "</table>\n",
       "</div>"
      ],
      "text/plain": [
       "         SellerG            Suburb  Rooms Type    Price Method  Distance  Car  \\\n",
       "461       Nelson  Avondale Heights      3    h   845000      S        10    3   \n",
       "11712     LITTLE        Hughesdale      2    u   472000      S        12    1   \n",
       "7826    Woodards         Fairfield      3    h  1500000     PI         5    2   \n",
       "8641     Rendina        Kensington      3    h   902500      S         4    1   \n",
       "10311  Stockdale          Hadfield      3    h   870000      S        11    6   \n",
       "\n",
       "       Landsize             Regionname  \n",
       "461         704   Western Metropolitan  \n",
       "11712         0  Southern Metropolitan  \n",
       "7826        574  Northern Metropolitan  \n",
       "8641          0  Northern Metropolitan  \n",
       "10311       700  Northern Metropolitan  "
      ]
     },
     "execution_count": 220,
     "metadata": {},
     "output_type": "execute_result"
    }
   ],
   "source": [
    "#showing sample of five rows to check the cleaned data randomly\n",
    "rs.sample(n=5)"
   ]
  },
  {
   "cell_type": "markdown",
   "id": "d00dbde3",
   "metadata": {},
   "source": [
    "# Exploratory Data Analysis"
   ]
  },
  {
   "cell_type": "code",
   "execution_count": 221,
   "id": "df40651d",
   "metadata": {},
   "outputs": [
    {
     "data": {
      "image/png": "[encoded data removed]",
      "text/plain": [
       "<Figure size 720x720 with 6 Axes>"
      ]
     },
     "metadata": {
      "needs_background": "light"
     },
     "output_type": "display_data"
    }
   ],
   "source": [
    "# Draw Histogram to show distribution of data for each feature\n",
    "rs.hist(figsize=(10,10))\n",
    "plt.suptitle('Histograms shows count of each category for all the features', fontsize=22);"
   ]
  },
  {
   "cell_type": "code",
   "execution_count": 222,
   "id": "2b7811a2",
   "metadata": {},
   "outputs": [
    {
     "data": {
      "text/plain": [
       "<AxesSubplot:>"
      ]
     },
     "execution_count": 222,
     "metadata": {},
     "output_type": "execute_result"
    },
    {
     "data": {
      "image/png": "[encoded data removed]",
      "text/plain": [
       "<Figure size 432x288 with 2 Axes>"
      ]
     },
     "metadata": {
      "needs_background": "light"
     },
     "output_type": "display_data"
    }
   ],
   "source": [
    "#use the corr() function to get an idea of the correlations among the different variables\n",
    "\n",
    "sns.heatmap(rs.corr(), cmap=\"Set3\", annot=True, vmin=-1, vmax=1.53)"
   ]
  },
  {
   "cell_type": "code",
   "execution_count": 223,
   "id": "aaf6eb47",
   "metadata": {},
   "outputs": [
    {
     "name": "stdout",
     "output_type": "stream",
     "text": [
      "Price       1.000000\n",
      "Rooms       0.496634\n",
      "Car         0.234825\n",
      "Landsize    0.037507\n",
      "Distance   -0.161727\n",
      "Name: Price, dtype: float64\n"
     ]
    },
    {
     "data": {
      "text/plain": [
       "array([[1.        , 0.49663368],\n",
       "       [0.49663368, 1.        ]])"
      ]
     },
     "execution_count": 223,
     "metadata": {},
     "output_type": "execute_result"
    }
   ],
   "source": [
    "#for a better view of the correlations in order\n",
    "\n",
    "corr_matrix = rs.corr()\n",
    "print(corr_matrix.Price.sort_values(ascending=False))\n",
    "\n",
    "np.corrcoef(rs['Price'], rs['Rooms'])"
   ]
  },
  {
   "cell_type": "markdown",
   "id": "60b0d01e",
   "metadata": {},
   "source": [
    "As you can see there are positive moderate correlation with (Rooms) & there is no correlation with (Landsize)\n",
    "& negitive weak correlation: (Distance ,Car)"
   ]
  },
  {
   "cell_type": "code",
   "execution_count": 224,
   "id": "b05509b7",
   "metadata": {},
   "outputs": [
    {
     "data": {
      "text/plain": [
       "Text(0.5, 1.0, 'the relation between rooms and price')"
      ]
     },
     "execution_count": 224,
     "metadata": {},
     "output_type": "execute_result"
    },
    {
     "data": {
      "image/png": "[encoded data removed]",
      "text/plain": [
       "<Figure size 360x360 with 1 Axes>"
      ]
     },
     "metadata": {
      "needs_background": "light"
     },
     "output_type": "display_data"
    }
   ],
   "source": [
    "#checking the relationship between the price and rooms.\n",
    "#Create a linear model plot using seaborn's lmplot.\n",
    "\n",
    "sns.lmplot(x=\"Rooms\",y=\"Price\",data=rs, scatter=True)\n",
    "plt.title(\"the relation between rooms and price\") # Change title for the plot"
   ]
  },
  {
   "cell_type": "code",
   "execution_count": 225,
   "id": "3f83f092",
   "metadata": {},
   "outputs": [],
   "source": [
    "x=rs[['Rooms','Landsize','Car','Distance']]"
   ]
  },
  {
   "cell_type": "code",
   "execution_count": 226,
   "id": "9280e314",
   "metadata": {},
   "outputs": [
    {
     "data": {
      "text/html": [
       "<div>\n",
       "<style scoped>\n",
       "    .dataframe tbody tr th:only-of-type {\n",
       "        vertical-align: middle;\n",
       "    }\n",
       "\n",
       "    .dataframe tbody tr th {\n",
       "        vertical-align: top;\n",
       "    }\n",
       "\n",
       "    .dataframe thead th {\n",
       "        text-align: right;\n",
       "    }\n",
       "</style>\n",
       "<table border=\"1\" class=\"dataframe\">\n",
       "  <thead>\n",
       "    <tr style=\"text-align: right;\">\n",
       "      <th></th>\n",
       "      <th>Rooms</th>\n",
       "      <th>Landsize</th>\n",
       "      <th>Car</th>\n",
       "      <th>Distance</th>\n",
       "    </tr>\n",
       "  </thead>\n",
       "  <tbody>\n",
       "    <tr>\n",
       "      <th>0</th>\n",
       "      <td>2</td>\n",
       "      <td>202</td>\n",
       "      <td>1</td>\n",
       "      <td>2</td>\n",
       "    </tr>\n",
       "    <tr>\n",
       "      <th>1</th>\n",
       "      <td>2</td>\n",
       "      <td>156</td>\n",
       "      <td>0</td>\n",
       "      <td>2</td>\n",
       "    </tr>\n",
       "    <tr>\n",
       "      <th>2</th>\n",
       "      <td>3</td>\n",
       "      <td>134</td>\n",
       "      <td>0</td>\n",
       "      <td>2</td>\n",
       "    </tr>\n",
       "    <tr>\n",
       "      <th>3</th>\n",
       "      <td>3</td>\n",
       "      <td>94</td>\n",
       "      <td>1</td>\n",
       "      <td>2</td>\n",
       "    </tr>\n",
       "    <tr>\n",
       "      <th>4</th>\n",
       "      <td>4</td>\n",
       "      <td>120</td>\n",
       "      <td>2</td>\n",
       "      <td>2</td>\n",
       "    </tr>\n",
       "    <tr>\n",
       "      <th>...</th>\n",
       "      <td>...</td>\n",
       "      <td>...</td>\n",
       "      <td>...</td>\n",
       "      <td>...</td>\n",
       "    </tr>\n",
       "    <tr>\n",
       "      <th>13575</th>\n",
       "      <td>4</td>\n",
       "      <td>652</td>\n",
       "      <td>2</td>\n",
       "      <td>16</td>\n",
       "    </tr>\n",
       "    <tr>\n",
       "      <th>13576</th>\n",
       "      <td>3</td>\n",
       "      <td>333</td>\n",
       "      <td>2</td>\n",
       "      <td>6</td>\n",
       "    </tr>\n",
       "    <tr>\n",
       "      <th>13577</th>\n",
       "      <td>3</td>\n",
       "      <td>436</td>\n",
       "      <td>4</td>\n",
       "      <td>6</td>\n",
       "    </tr>\n",
       "    <tr>\n",
       "      <th>13578</th>\n",
       "      <td>4</td>\n",
       "      <td>866</td>\n",
       "      <td>5</td>\n",
       "      <td>6</td>\n",
       "    </tr>\n",
       "    <tr>\n",
       "      <th>13579</th>\n",
       "      <td>4</td>\n",
       "      <td>362</td>\n",
       "      <td>1</td>\n",
       "      <td>6</td>\n",
       "    </tr>\n",
       "  </tbody>\n",
       "</table>\n",
       "<p>13580 rows × 4 columns</p>\n",
       "</div>"
      ],
      "text/plain": [
       "       Rooms  Landsize  Car  Distance\n",
       "0          2       202    1         2\n",
       "1          2       156    0         2\n",
       "2          3       134    0         2\n",
       "3          3        94    1         2\n",
       "4          4       120    2         2\n",
       "...      ...       ...  ...       ...\n",
       "13575      4       652    2        16\n",
       "13576      3       333    2         6\n",
       "13577      3       436    4         6\n",
       "13578      4       866    5         6\n",
       "13579      4       362    1         6\n",
       "\n",
       "[13580 rows x 4 columns]"
      ]
     },
     "execution_count": 226,
     "metadata": {},
     "output_type": "execute_result"
    }
   ],
   "source": [
    "x"
   ]
  },
  {
   "cell_type": "code",
   "execution_count": 227,
   "id": "95d93b1a",
   "metadata": {},
   "outputs": [],
   "source": [
    "Seller = pd.get_dummies(rs['SellerG'],drop_first=True)\n",
    "Suburb=pd.get_dummies(rs['Suburb'],drop_first=True)\n",
    "Type=pd.get_dummies(rs['Type'],drop_first=True)\n",
    "Region=pd.get_dummies(rs['Regionname'],drop_first=True)"
   ]
  },
  {
   "cell_type": "code",
   "execution_count": 228,
   "id": "63d0485e",
   "metadata": {},
   "outputs": [
    {
     "data": {
      "text/html": [
       "<div>\n",
       "<style scoped>\n",
       "    .dataframe tbody tr th:only-of-type {\n",
       "        vertical-align: middle;\n",
       "    }\n",
       "\n",
       "    .dataframe tbody tr th {\n",
       "        vertical-align: top;\n",
       "    }\n",
       "\n",
       "    .dataframe thead th {\n",
       "        text-align: right;\n",
       "    }\n",
       "</style>\n",
       "<table border=\"1\" class=\"dataframe\">\n",
       "  <thead>\n",
       "    <tr style=\"text-align: right;\">\n",
       "      <th></th>\n",
       "      <th>ASL</th>\n",
       "      <th>Abercromby's</th>\n",
       "      <th>Ace</th>\n",
       "      <th>Alexkarbon</th>\n",
       "      <th>Allens</th>\n",
       "      <th>Anderson</th>\n",
       "      <th>Appleby</th>\n",
       "      <th>Aquire</th>\n",
       "      <th>Area</th>\n",
       "      <th>Ascend</th>\n",
       "      <th>...</th>\n",
       "      <th>Zahn</th>\n",
       "      <th>buyMyplace</th>\n",
       "      <th>hockingstuart</th>\n",
       "      <th>hockingstuart/Advantage</th>\n",
       "      <th>hockingstuart/Barry</th>\n",
       "      <th>hockingstuart/Village</th>\n",
       "      <th>iOne</th>\n",
       "      <th>iProperty</th>\n",
       "      <th>iSell</th>\n",
       "      <th>iTRAK</th>\n",
       "    </tr>\n",
       "  </thead>\n",
       "  <tbody>\n",
       "    <tr>\n",
       "      <th>0</th>\n",
       "      <td>0</td>\n",
       "      <td>0</td>\n",
       "      <td>0</td>\n",
       "      <td>0</td>\n",
       "      <td>0</td>\n",
       "      <td>0</td>\n",
       "      <td>0</td>\n",
       "      <td>0</td>\n",
       "      <td>0</td>\n",
       "      <td>0</td>\n",
       "      <td>...</td>\n",
       "      <td>0</td>\n",
       "      <td>0</td>\n",
       "      <td>0</td>\n",
       "      <td>0</td>\n",
       "      <td>0</td>\n",
       "      <td>0</td>\n",
       "      <td>0</td>\n",
       "      <td>0</td>\n",
       "      <td>0</td>\n",
       "      <td>0</td>\n",
       "    </tr>\n",
       "    <tr>\n",
       "      <th>1</th>\n",
       "      <td>0</td>\n",
       "      <td>0</td>\n",
       "      <td>0</td>\n",
       "      <td>0</td>\n",
       "      <td>0</td>\n",
       "      <td>0</td>\n",
       "      <td>0</td>\n",
       "      <td>0</td>\n",
       "      <td>0</td>\n",
       "      <td>0</td>\n",
       "      <td>...</td>\n",
       "      <td>0</td>\n",
       "      <td>0</td>\n",
       "      <td>0</td>\n",
       "      <td>0</td>\n",
       "      <td>0</td>\n",
       "      <td>0</td>\n",
       "      <td>0</td>\n",
       "      <td>0</td>\n",
       "      <td>0</td>\n",
       "      <td>0</td>\n",
       "    </tr>\n",
       "    <tr>\n",
       "      <th>2</th>\n",
       "      <td>0</td>\n",
       "      <td>0</td>\n",
       "      <td>0</td>\n",
       "      <td>0</td>\n",
       "      <td>0</td>\n",
       "      <td>0</td>\n",
       "      <td>0</td>\n",
       "      <td>0</td>\n",
       "      <td>0</td>\n",
       "      <td>0</td>\n",
       "      <td>...</td>\n",
       "      <td>0</td>\n",
       "      <td>0</td>\n",
       "      <td>0</td>\n",
       "      <td>0</td>\n",
       "      <td>0</td>\n",
       "      <td>0</td>\n",
       "      <td>0</td>\n",
       "      <td>0</td>\n",
       "      <td>0</td>\n",
       "      <td>0</td>\n",
       "    </tr>\n",
       "    <tr>\n",
       "      <th>3</th>\n",
       "      <td>0</td>\n",
       "      <td>0</td>\n",
       "      <td>0</td>\n",
       "      <td>0</td>\n",
       "      <td>0</td>\n",
       "      <td>0</td>\n",
       "      <td>0</td>\n",
       "      <td>0</td>\n",
       "      <td>0</td>\n",
       "      <td>0</td>\n",
       "      <td>...</td>\n",
       "      <td>0</td>\n",
       "      <td>0</td>\n",
       "      <td>0</td>\n",
       "      <td>0</td>\n",
       "      <td>0</td>\n",
       "      <td>0</td>\n",
       "      <td>0</td>\n",
       "      <td>0</td>\n",
       "      <td>0</td>\n",
       "      <td>0</td>\n",
       "    </tr>\n",
       "    <tr>\n",
       "      <th>4</th>\n",
       "      <td>0</td>\n",
       "      <td>0</td>\n",
       "      <td>0</td>\n",
       "      <td>0</td>\n",
       "      <td>0</td>\n",
       "      <td>0</td>\n",
       "      <td>0</td>\n",
       "      <td>0</td>\n",
       "      <td>0</td>\n",
       "      <td>0</td>\n",
       "      <td>...</td>\n",
       "      <td>0</td>\n",
       "      <td>0</td>\n",
       "      <td>0</td>\n",
       "      <td>0</td>\n",
       "      <td>0</td>\n",
       "      <td>0</td>\n",
       "      <td>0</td>\n",
       "      <td>0</td>\n",
       "      <td>0</td>\n",
       "      <td>0</td>\n",
       "    </tr>\n",
       "  </tbody>\n",
       "</table>\n",
       "<p>5 rows × 267 columns</p>\n",
       "</div>"
      ],
      "text/plain": [
       "   ASL  Abercromby's  Ace  Alexkarbon  Allens  Anderson  Appleby  Aquire  \\\n",
       "0    0             0    0           0       0         0        0       0   \n",
       "1    0             0    0           0       0         0        0       0   \n",
       "2    0             0    0           0       0         0        0       0   \n",
       "3    0             0    0           0       0         0        0       0   \n",
       "4    0             0    0           0       0         0        0       0   \n",
       "\n",
       "   Area  Ascend  ...  Zahn  buyMyplace  hockingstuart  \\\n",
       "0     0       0  ...     0           0              0   \n",
       "1     0       0  ...     0           0              0   \n",
       "2     0       0  ...     0           0              0   \n",
       "3     0       0  ...     0           0              0   \n",
       "4     0       0  ...     0           0              0   \n",
       "\n",
       "   hockingstuart/Advantage  hockingstuart/Barry  hockingstuart/Village  iOne  \\\n",
       "0                        0                    0                      0     0   \n",
       "1                        0                    0                      0     0   \n",
       "2                        0                    0                      0     0   \n",
       "3                        0                    0                      0     0   \n",
       "4                        0                    0                      0     0   \n",
       "\n",
       "   iProperty  iSell  iTRAK  \n",
       "0          0      0      0  \n",
       "1          0      0      0  \n",
       "2          0      0      0  \n",
       "3          0      0      0  \n",
       "4          0      0      0  \n",
       "\n",
       "[5 rows x 267 columns]"
      ]
     },
     "execution_count": 228,
     "metadata": {},
     "output_type": "execute_result"
    }
   ],
   "source": [
    "#TESTING\n",
    "#CHECKING IF MY DUMMIES WORKS\n",
    "Seller.head()"
   ]
  },
  {
   "cell_type": "code",
   "execution_count": 229,
   "id": "55c8b1ea",
   "metadata": {},
   "outputs": [],
   "source": [
    "x=pd.concat([x,Seller,Suburb,Type,Region],axis=1)\n",
    "y=rs.Price\n",
    "\n",
    "#LET'S TAKE A LOOK"
   ]
  },
  {
   "cell_type": "code",
   "execution_count": 230,
   "id": "cd94c04e",
   "metadata": {},
   "outputs": [
    {
     "data": {
      "text/html": [
       "<div>\n",
       "<style scoped>\n",
       "    .dataframe tbody tr th:only-of-type {\n",
       "        vertical-align: middle;\n",
       "    }\n",
       "\n",
       "    .dataframe tbody tr th {\n",
       "        vertical-align: top;\n",
       "    }\n",
       "\n",
       "    .dataframe thead th {\n",
       "        text-align: right;\n",
       "    }\n",
       "</style>\n",
       "<table border=\"1\" class=\"dataframe\">\n",
       "  <thead>\n",
       "    <tr style=\"text-align: right;\">\n",
       "      <th></th>\n",
       "      <th>Rooms</th>\n",
       "      <th>Landsize</th>\n",
       "      <th>Car</th>\n",
       "      <th>Distance</th>\n",
       "      <th>ASL</th>\n",
       "      <th>Abercromby's</th>\n",
       "      <th>Ace</th>\n",
       "      <th>Alexkarbon</th>\n",
       "      <th>Allens</th>\n",
       "      <th>Anderson</th>\n",
       "      <th>...</th>\n",
       "      <th>Yarraville</th>\n",
       "      <th>t</th>\n",
       "      <th>u</th>\n",
       "      <th>Eastern Victoria</th>\n",
       "      <th>Northern Metropolitan</th>\n",
       "      <th>Northern Victoria</th>\n",
       "      <th>South-Eastern Metropolitan</th>\n",
       "      <th>Southern Metropolitan</th>\n",
       "      <th>Western Metropolitan</th>\n",
       "      <th>Western Victoria</th>\n",
       "    </tr>\n",
       "  </thead>\n",
       "  <tbody>\n",
       "    <tr>\n",
       "      <th>0</th>\n",
       "      <td>2</td>\n",
       "      <td>202</td>\n",
       "      <td>1</td>\n",
       "      <td>2</td>\n",
       "      <td>0</td>\n",
       "      <td>0</td>\n",
       "      <td>0</td>\n",
       "      <td>0</td>\n",
       "      <td>0</td>\n",
       "      <td>0</td>\n",
       "      <td>...</td>\n",
       "      <td>0</td>\n",
       "      <td>0</td>\n",
       "      <td>0</td>\n",
       "      <td>0</td>\n",
       "      <td>1</td>\n",
       "      <td>0</td>\n",
       "      <td>0</td>\n",
       "      <td>0</td>\n",
       "      <td>0</td>\n",
       "      <td>0</td>\n",
       "    </tr>\n",
       "    <tr>\n",
       "      <th>1</th>\n",
       "      <td>2</td>\n",
       "      <td>156</td>\n",
       "      <td>0</td>\n",
       "      <td>2</td>\n",
       "      <td>0</td>\n",
       "      <td>0</td>\n",
       "      <td>0</td>\n",
       "      <td>0</td>\n",
       "      <td>0</td>\n",
       "      <td>0</td>\n",
       "      <td>...</td>\n",
       "      <td>0</td>\n",
       "      <td>0</td>\n",
       "      <td>0</td>\n",
       "      <td>0</td>\n",
       "      <td>1</td>\n",
       "      <td>0</td>\n",
       "      <td>0</td>\n",
       "      <td>0</td>\n",
       "      <td>0</td>\n",
       "      <td>0</td>\n",
       "    </tr>\n",
       "    <tr>\n",
       "      <th>2</th>\n",
       "      <td>3</td>\n",
       "      <td>134</td>\n",
       "      <td>0</td>\n",
       "      <td>2</td>\n",
       "      <td>0</td>\n",
       "      <td>0</td>\n",
       "      <td>0</td>\n",
       "      <td>0</td>\n",
       "      <td>0</td>\n",
       "      <td>0</td>\n",
       "      <td>...</td>\n",
       "      <td>0</td>\n",
       "      <td>0</td>\n",
       "      <td>0</td>\n",
       "      <td>0</td>\n",
       "      <td>1</td>\n",
       "      <td>0</td>\n",
       "      <td>0</td>\n",
       "      <td>0</td>\n",
       "      <td>0</td>\n",
       "      <td>0</td>\n",
       "    </tr>\n",
       "    <tr>\n",
       "      <th>3</th>\n",
       "      <td>3</td>\n",
       "      <td>94</td>\n",
       "      <td>1</td>\n",
       "      <td>2</td>\n",
       "      <td>0</td>\n",
       "      <td>0</td>\n",
       "      <td>0</td>\n",
       "      <td>0</td>\n",
       "      <td>0</td>\n",
       "      <td>0</td>\n",
       "      <td>...</td>\n",
       "      <td>0</td>\n",
       "      <td>0</td>\n",
       "      <td>0</td>\n",
       "      <td>0</td>\n",
       "      <td>1</td>\n",
       "      <td>0</td>\n",
       "      <td>0</td>\n",
       "      <td>0</td>\n",
       "      <td>0</td>\n",
       "      <td>0</td>\n",
       "    </tr>\n",
       "    <tr>\n",
       "      <th>4</th>\n",
       "      <td>4</td>\n",
       "      <td>120</td>\n",
       "      <td>2</td>\n",
       "      <td>2</td>\n",
       "      <td>0</td>\n",
       "      <td>0</td>\n",
       "      <td>0</td>\n",
       "      <td>0</td>\n",
       "      <td>0</td>\n",
       "      <td>0</td>\n",
       "      <td>...</td>\n",
       "      <td>0</td>\n",
       "      <td>0</td>\n",
       "      <td>0</td>\n",
       "      <td>0</td>\n",
       "      <td>1</td>\n",
       "      <td>0</td>\n",
       "      <td>0</td>\n",
       "      <td>0</td>\n",
       "      <td>0</td>\n",
       "      <td>0</td>\n",
       "    </tr>\n",
       "    <tr>\n",
       "      <th>...</th>\n",
       "      <td>...</td>\n",
       "      <td>...</td>\n",
       "      <td>...</td>\n",
       "      <td>...</td>\n",
       "      <td>...</td>\n",
       "      <td>...</td>\n",
       "      <td>...</td>\n",
       "      <td>...</td>\n",
       "      <td>...</td>\n",
       "      <td>...</td>\n",
       "      <td>...</td>\n",
       "      <td>...</td>\n",
       "      <td>...</td>\n",
       "      <td>...</td>\n",
       "      <td>...</td>\n",
       "      <td>...</td>\n",
       "      <td>...</td>\n",
       "      <td>...</td>\n",
       "      <td>...</td>\n",
       "      <td>...</td>\n",
       "      <td>...</td>\n",
       "    </tr>\n",
       "    <tr>\n",
       "      <th>13575</th>\n",
       "      <td>4</td>\n",
       "      <td>652</td>\n",
       "      <td>2</td>\n",
       "      <td>16</td>\n",
       "      <td>0</td>\n",
       "      <td>0</td>\n",
       "      <td>0</td>\n",
       "      <td>0</td>\n",
       "      <td>0</td>\n",
       "      <td>0</td>\n",
       "      <td>...</td>\n",
       "      <td>0</td>\n",
       "      <td>0</td>\n",
       "      <td>0</td>\n",
       "      <td>0</td>\n",
       "      <td>0</td>\n",
       "      <td>0</td>\n",
       "      <td>1</td>\n",
       "      <td>0</td>\n",
       "      <td>0</td>\n",
       "      <td>0</td>\n",
       "    </tr>\n",
       "    <tr>\n",
       "      <th>13576</th>\n",
       "      <td>3</td>\n",
       "      <td>333</td>\n",
       "      <td>2</td>\n",
       "      <td>6</td>\n",
       "      <td>0</td>\n",
       "      <td>0</td>\n",
       "      <td>0</td>\n",
       "      <td>0</td>\n",
       "      <td>0</td>\n",
       "      <td>0</td>\n",
       "      <td>...</td>\n",
       "      <td>0</td>\n",
       "      <td>0</td>\n",
       "      <td>0</td>\n",
       "      <td>0</td>\n",
       "      <td>0</td>\n",
       "      <td>0</td>\n",
       "      <td>0</td>\n",
       "      <td>0</td>\n",
       "      <td>1</td>\n",
       "      <td>0</td>\n",
       "    </tr>\n",
       "    <tr>\n",
       "      <th>13577</th>\n",
       "      <td>3</td>\n",
       "      <td>436</td>\n",
       "      <td>4</td>\n",
       "      <td>6</td>\n",
       "      <td>0</td>\n",
       "      <td>0</td>\n",
       "      <td>0</td>\n",
       "      <td>0</td>\n",
       "      <td>0</td>\n",
       "      <td>0</td>\n",
       "      <td>...</td>\n",
       "      <td>0</td>\n",
       "      <td>0</td>\n",
       "      <td>0</td>\n",
       "      <td>0</td>\n",
       "      <td>0</td>\n",
       "      <td>0</td>\n",
       "      <td>0</td>\n",
       "      <td>0</td>\n",
       "      <td>1</td>\n",
       "      <td>0</td>\n",
       "    </tr>\n",
       "    <tr>\n",
       "      <th>13578</th>\n",
       "      <td>4</td>\n",
       "      <td>866</td>\n",
       "      <td>5</td>\n",
       "      <td>6</td>\n",
       "      <td>0</td>\n",
       "      <td>0</td>\n",
       "      <td>0</td>\n",
       "      <td>0</td>\n",
       "      <td>0</td>\n",
       "      <td>0</td>\n",
       "      <td>...</td>\n",
       "      <td>0</td>\n",
       "      <td>0</td>\n",
       "      <td>0</td>\n",
       "      <td>0</td>\n",
       "      <td>0</td>\n",
       "      <td>0</td>\n",
       "      <td>0</td>\n",
       "      <td>0</td>\n",
       "      <td>1</td>\n",
       "      <td>0</td>\n",
       "    </tr>\n",
       "    <tr>\n",
       "      <th>13579</th>\n",
       "      <td>4</td>\n",
       "      <td>362</td>\n",
       "      <td>1</td>\n",
       "      <td>6</td>\n",
       "      <td>0</td>\n",
       "      <td>0</td>\n",
       "      <td>0</td>\n",
       "      <td>0</td>\n",
       "      <td>0</td>\n",
       "      <td>0</td>\n",
       "      <td>...</td>\n",
       "      <td>1</td>\n",
       "      <td>0</td>\n",
       "      <td>0</td>\n",
       "      <td>0</td>\n",
       "      <td>0</td>\n",
       "      <td>0</td>\n",
       "      <td>0</td>\n",
       "      <td>0</td>\n",
       "      <td>1</td>\n",
       "      <td>0</td>\n",
       "    </tr>\n",
       "  </tbody>\n",
       "</table>\n",
       "<p>13580 rows × 593 columns</p>\n",
       "</div>"
      ],
      "text/plain": [
       "       Rooms  Landsize  Car  Distance  ASL  Abercromby's  Ace  Alexkarbon  \\\n",
       "0          2       202    1         2    0             0    0           0   \n",
       "1          2       156    0         2    0             0    0           0   \n",
       "2          3       134    0         2    0             0    0           0   \n",
       "3          3        94    1         2    0             0    0           0   \n",
       "4          4       120    2         2    0             0    0           0   \n",
       "...      ...       ...  ...       ...  ...           ...  ...         ...   \n",
       "13575      4       652    2        16    0             0    0           0   \n",
       "13576      3       333    2         6    0             0    0           0   \n",
       "13577      3       436    4         6    0             0    0           0   \n",
       "13578      4       866    5         6    0             0    0           0   \n",
       "13579      4       362    1         6    0             0    0           0   \n",
       "\n",
       "       Allens  Anderson  ...  Yarraville  t  u  Eastern Victoria  \\\n",
       "0           0         0  ...           0  0  0                 0   \n",
       "1           0         0  ...           0  0  0                 0   \n",
       "2           0         0  ...           0  0  0                 0   \n",
       "3           0         0  ...           0  0  0                 0   \n",
       "4           0         0  ...           0  0  0                 0   \n",
       "...       ...       ...  ...         ... .. ..               ...   \n",
       "13575       0         0  ...           0  0  0                 0   \n",
       "13576       0         0  ...           0  0  0                 0   \n",
       "13577       0         0  ...           0  0  0                 0   \n",
       "13578       0         0  ...           0  0  0                 0   \n",
       "13579       0         0  ...           1  0  0                 0   \n",
       "\n",
       "       Northern Metropolitan  Northern Victoria  South-Eastern Metropolitan  \\\n",
       "0                          1                  0                           0   \n",
       "1                          1                  0                           0   \n",
       "2                          1                  0                           0   \n",
       "3                          1                  0                           0   \n",
       "4                          1                  0                           0   \n",
       "...                      ...                ...                         ...   \n",
       "13575                      0                  0                           1   \n",
       "13576                      0                  0                           0   \n",
       "13577                      0                  0                           0   \n",
       "13578                      0                  0                           0   \n",
       "13579                      0                  0                           0   \n",
       "\n",
       "       Southern Metropolitan  Western Metropolitan  Western Victoria  \n",
       "0                          0                     0                 0  \n",
       "1                          0                     0                 0  \n",
       "2                          0                     0                 0  \n",
       "3                          0                     0                 0  \n",
       "4                          0                     0                 0  \n",
       "...                      ...                   ...               ...  \n",
       "13575                      0                     0                 0  \n",
       "13576                      0                     1                 0  \n",
       "13577                      0                     1                 0  \n",
       "13578                      0                     1                 0  \n",
       "13579                      0                     1                 0  \n",
       "\n",
       "[13580 rows x 593 columns]"
      ]
     },
     "execution_count": 230,
     "metadata": {},
     "output_type": "execute_result"
    }
   ],
   "source": [
    "x"
   ]
  },
  {
   "cell_type": "code",
   "execution_count": 231,
   "id": "b03cb6d8",
   "metadata": {},
   "outputs": [
    {
     "data": {
      "text/plain": [
       "0        1480000\n",
       "1        1035000\n",
       "2        1465000\n",
       "3         850000\n",
       "4        1600000\n",
       "          ...   \n",
       "13575    1245000\n",
       "13576    1031000\n",
       "13577    1170000\n",
       "13578    2500000\n",
       "13579    1285000\n",
       "Name: Price, Length: 13580, dtype: int64"
      ]
     },
     "execution_count": 231,
     "metadata": {},
     "output_type": "execute_result"
    }
   ],
   "source": [
    "y"
   ]
  },
  {
   "cell_type": "code",
   "execution_count": 232,
   "id": "1246d0bf",
   "metadata": {},
   "outputs": [
    {
     "data": {
      "text/plain": [
       "Text(0.5, 1.0, 'the relation between rooms and price')"
      ]
     },
     "execution_count": 232,
     "metadata": {},
     "output_type": "execute_result"
    },
    {
     "data": {
      "image/png": "[encoded data removed]",
      "text/plain": [
       "<Figure size 432x288 with 1 Axes>"
      ]
     },
     "metadata": {
      "needs_background": "light"
     },
     "output_type": "display_data"
    }
   ],
   "source": [
    "#show the relation between Rooms and price\n",
    "plt.scatter(rs.Rooms,rs.Price)\n",
    "plt.title(\"the relation between rooms and price\") # Change title for the plot"
   ]
  },
  {
   "cell_type": "code",
   "execution_count": 233,
   "id": "d000ede6",
   "metadata": {},
   "outputs": [
    {
     "data": {
      "text/plain": [
       "9"
      ]
     },
     "execution_count": 233,
     "metadata": {},
     "output_type": "execute_result"
    }
   ],
   "source": [
    "#checking the unique values so i can decide the outliers\n",
    "rs.Rooms.nunique()"
   ]
  },
  {
   "cell_type": "code",
   "execution_count": 234,
   "id": "d2e40bb6",
   "metadata": {},
   "outputs": [
    {
     "name": "stdout",
     "output_type": "stream",
     "text": [
      "(array([11304], dtype=int64),)\n"
     ]
    }
   ],
   "source": [
    "#show colmn with this problem\n",
    "\n",
    "print(np.where(rs['Rooms']==10 ))"
   ]
  },
  {
   "cell_type": "code",
   "execution_count": 235,
   "id": "0c5b0528",
   "metadata": {},
   "outputs": [
    {
     "name": "stdout",
     "output_type": "stream",
     "text": [
      "(array([ 3616,  6372,  7692,  9575, 12094, 12557], dtype=int64),)\n"
     ]
    }
   ],
   "source": [
    "#show colmn with this problem\n",
    "print(np.where(rs['Price']>6000000))"
   ]
  },
  {
   "cell_type": "code",
   "execution_count": 236,
   "id": "d70cd21a",
   "metadata": {},
   "outputs": [],
   "source": [
    "# Drop the column with outliers index\n",
    "rs.drop(rs.index[[3616,  6372,  7692,  9575,11304, 12094, 12557]], inplace= True, axis=0)"
   ]
  },
  {
   "cell_type": "code",
   "execution_count": 237,
   "id": "7603d25c",
   "metadata": {},
   "outputs": [
    {
     "data": {
      "image/png": "[encoded data removed]",
      "text/plain": [
       "<Figure size 432x288 with 1 Axes>"
      ]
     },
     "metadata": {
      "needs_background": "light"
     },
     "output_type": "display_data"
    }
   ],
   "source": [
    "#show the relation between rooms and price after drop outliers index\n",
    "\n",
    "plt.scatter(rs.Rooms,rs.Price,c='C1',zorder=3)\n",
    "plt.title(\"the relation between rooms and price\") # Change title for the plot\n",
    "plt.legend([\"Rooms\", \"Price\"]); # Change color"
   ]
  },
  {
   "cell_type": "code",
   "execution_count": 238,
   "id": "6aec6005",
   "metadata": {},
   "outputs": [
    {
     "data": {
      "text/plain": [
       "Text(0.5, 1.0, 'the correlation between all featerues')"
      ]
     },
     "execution_count": 238,
     "metadata": {},
     "output_type": "execute_result"
    },
    {
     "data": {
      "image/png": "[encoded data removed]",
      "text/plain": [
       "<Figure size 432x288 with 2 Axes>"
      ]
     },
     "metadata": {
      "needs_background": "light"
     },
     "output_type": "display_data"
    }
   ],
   "source": [
    "#show the correlation after drop outliers index\n",
    "sns.heatmap(rs.corr(), cmap=\"Set3\", annot=True, vmin=-1, vmax=1.53)\n",
    "plt.title(\"the correlation between all featerues\") # Change title for the plot"
   ]
  },
  {
   "cell_type": "code",
   "execution_count": 239,
   "id": "afe54c28",
   "metadata": {},
   "outputs": [
    {
     "data": {
      "image/png": "[encoded data removed]",
      "text/plain": [
       "<Figure size 864x720 with 30 Axes>"
      ]
     },
     "metadata": {
      "needs_background": "light"
     },
     "output_type": "display_data"
    }
   ],
   "source": [
    "#Plot all of the variable-to-variable relations as scatterplots\n",
    "sns.pairplot(rs, height=2, aspect=1.2, kind='scatter');\n"
   ]
  },
  {
   "cell_type": "markdown",
   "id": "af6d05a9",
   "metadata": {},
   "source": [
    "# MODELING"
   ]
  },
  {
   "cell_type": "code",
   "execution_count": 57,
   "id": "8b753915",
   "metadata": {},
   "outputs": [],
   "source": [
    "print(lr.intercept_)"
   ]
  },
  {
   "cell_type": "code",
   "execution_count": 58,
   "id": "fc836956",
   "metadata": {},
   "outputs": [],
   "source": [
    "#lr.coef_"
   ]
  },
  {
   "cell_type": "code",
   "execution_count": 59,
   "id": "deb92e6c",
   "metadata": {},
   "outputs": [],
   "source": [
    "x_train,x_test,y_train,y_test=train_test_split(x,y,test_size=0.2,random_state=0)\n",
    "#Split data into: 80% train, 20% test"
   ]
  },
  {
   "cell_type": "code",
   "execution_count": 60,
   "id": "14a7d898",
   "metadata": {},
   "outputs": [
    {
     "name": "stdout",
     "output_type": "stream",
     "text": [
      "x_train:  (10864, 593)\n",
      "y_train:  (10864,)\n",
      "x_test:  (2716, 593)\n",
      "y_test:   (2716,)\n"
     ]
    }
   ],
   "source": [
    "print(\"x_train: \", x_train.shape)\n",
    "print(\"y_train: \", y_train.shape)\n",
    "print(\"x_test: \", x_test.shape)\n",
    "print(\"y_test:  \", y_test.shape)"
   ]
  },
  {
   "cell_type": "code",
   "execution_count": 72,
   "id": "0fe67658",
   "metadata": {},
   "outputs": [
    {
     "data": {
      "text/plain": [
       "array([1718718.16161578,  773512.380298  ,  712286.36053669, ...,\n",
       "       1023455.99612526, 1663508.83191421, 1207990.85440562])"
      ]
     },
     "execution_count": 72,
     "metadata": {},
     "output_type": "execute_result"
    }
   ],
   "source": [
    "# Initialize model object\n",
    "lr = LinearRegression()\n",
    "\n",
    "# Fit model\n",
    "fitted_lr = lr.fit(x_train, y_train)\n",
    "\n",
    "# Make predictions\n",
    "predictions = lr.predict(x_test)\n",
    "predictions"
   ]
  },
  {
   "cell_type": "code",
   "execution_count": 73,
   "id": "618e1ef8",
   "metadata": {},
   "outputs": [
    {
     "data": {
      "text/plain": [
       "<matplotlib.collections.PathCollection at 0x1b43857ff40>"
      ]
     },
     "execution_count": 73,
     "metadata": {},
     "output_type": "execute_result"
    },
    {
     "data": {
      "image/png": "[encoded data removed]",
      "text/plain": [
       "<Figure size 432x288 with 1 Axes>"
      ]
     },
     "metadata": {},
     "output_type": "display_data"
    }
   ],
   "source": [
    "plt.scatter(y_test,predictions)"
   ]
  },
  {
   "cell_type": "code",
   "execution_count": 75,
   "id": "055cc5ea",
   "metadata": {},
   "outputs": [
    {
     "name": "stdout",
     "output_type": "stream",
     "text": [
      "Linear Regression R^2 Score:  0.666\n"
     ]
    }
   ],
   "source": [
    "# Score model\n",
    "print(\"Linear Regression R^2 Score: \", round(fitted_lr.score(x_test, y_test), 3))"
   ]
  },
  {
   "cell_type": "code",
   "execution_count": 68,
   "id": "8a58901d",
   "metadata": {},
   "outputs": [
    {
     "data": {
      "text/plain": [
       "0.6659575642685858"
      ]
     },
     "execution_count": 68,
     "metadata": {},
     "output_type": "execute_result"
    }
   ],
   "source": [
    "#findout the R square\n",
    "r2_lr=r2_score(y_test, predictions)\n",
    "r2_lr"
   ]
  },
  {
   "cell_type": "code",
   "execution_count": 67,
   "id": "11a0a6e8",
   "metadata": {},
   "outputs": [
    {
     "data": {
      "text/plain": [
       "0.6856808546787555"
      ]
     },
     "execution_count": 67,
     "metadata": {},
     "output_type": "execute_result"
    }
   ],
   "source": [
    "#findout the R square\n",
    "t_2= lr.score(x_train, y_train)\n",
    "t_2"
   ]
  },
  {
   "cell_type": "code",
   "execution_count": 69,
   "id": "5f09093d",
   "metadata": {},
   "outputs": [
    {
     "data": {
      "text/plain": [
       "0.6713276086310505"
      ]
     },
     "execution_count": 69,
     "metadata": {},
     "output_type": "execute_result"
    }
   ],
   "source": [
    "#findout the Adj R square for training set\n",
    "adjusted_r_squared_1 = 1 - (1-(t_2))*(len(y)-1)/(len(y)-x.shape[1]-1)\n",
    "adjusted_r_squared_1"
   ]
  },
  {
   "cell_type": "code",
   "execution_count": 71,
   "id": "1793bff8",
   "metadata": {},
   "outputs": [
    {
     "data": {
      "text/plain": [
       "0.6507036628063396"
      ]
     },
     "execution_count": 71,
     "metadata": {},
     "output_type": "execute_result"
    }
   ],
   "source": [
    "#findout the Adj R square for testing set\n",
    "adjusted_r_squared_2 = 1 - (1-(r2_lr))*(len(y)-1)/(len(y)-x.shape[1]-1)\n",
    "adjusted_r_squared_2"
   ]
  },
  {
   "cell_type": "code",
   "execution_count": 78,
   "id": "55a9db32",
   "metadata": {},
   "outputs": [
    {
     "data": {
      "text/html": [
       "<div>\n",
       "<style scoped>\n",
       "    .dataframe tbody tr th:only-of-type {\n",
       "        vertical-align: middle;\n",
       "    }\n",
       "\n",
       "    .dataframe tbody tr th {\n",
       "        vertical-align: top;\n",
       "    }\n",
       "\n",
       "    .dataframe thead th {\n",
       "        text-align: right;\n",
       "    }\n",
       "</style>\n",
       "<table border=\"1\" class=\"dataframe\">\n",
       "  <thead>\n",
       "    <tr style=\"text-align: right;\">\n",
       "      <th></th>\n",
       "      <th>Rooms</th>\n",
       "      <th>Landsize</th>\n",
       "      <th>Car</th>\n",
       "      <th>Distance</th>\n",
       "      <th>ASL</th>\n",
       "      <th>Abercromby's</th>\n",
       "      <th>Ace</th>\n",
       "      <th>Alexkarbon</th>\n",
       "      <th>Allens</th>\n",
       "      <th>Anderson</th>\n",
       "      <th>...</th>\n",
       "      <th>Yarraville</th>\n",
       "      <th>t</th>\n",
       "      <th>u</th>\n",
       "      <th>Eastern Victoria</th>\n",
       "      <th>Northern Metropolitan</th>\n",
       "      <th>Northern Victoria</th>\n",
       "      <th>South-Eastern Metropolitan</th>\n",
       "      <th>Southern Metropolitan</th>\n",
       "      <th>Western Metropolitan</th>\n",
       "      <th>Western Victoria</th>\n",
       "    </tr>\n",
       "  </thead>\n",
       "  <tbody>\n",
       "    <tr>\n",
       "      <th>0</th>\n",
       "      <td>2</td>\n",
       "      <td>202</td>\n",
       "      <td>1</td>\n",
       "      <td>2</td>\n",
       "      <td>0</td>\n",
       "      <td>0</td>\n",
       "      <td>0</td>\n",
       "      <td>0</td>\n",
       "      <td>0</td>\n",
       "      <td>0</td>\n",
       "      <td>...</td>\n",
       "      <td>0</td>\n",
       "      <td>0</td>\n",
       "      <td>0</td>\n",
       "      <td>0</td>\n",
       "      <td>1</td>\n",
       "      <td>0</td>\n",
       "      <td>0</td>\n",
       "      <td>0</td>\n",
       "      <td>0</td>\n",
       "      <td>0</td>\n",
       "    </tr>\n",
       "    <tr>\n",
       "      <th>1</th>\n",
       "      <td>2</td>\n",
       "      <td>156</td>\n",
       "      <td>0</td>\n",
       "      <td>2</td>\n",
       "      <td>0</td>\n",
       "      <td>0</td>\n",
       "      <td>0</td>\n",
       "      <td>0</td>\n",
       "      <td>0</td>\n",
       "      <td>0</td>\n",
       "      <td>...</td>\n",
       "      <td>0</td>\n",
       "      <td>0</td>\n",
       "      <td>0</td>\n",
       "      <td>0</td>\n",
       "      <td>1</td>\n",
       "      <td>0</td>\n",
       "      <td>0</td>\n",
       "      <td>0</td>\n",
       "      <td>0</td>\n",
       "      <td>0</td>\n",
       "    </tr>\n",
       "    <tr>\n",
       "      <th>2</th>\n",
       "      <td>3</td>\n",
       "      <td>134</td>\n",
       "      <td>0</td>\n",
       "      <td>2</td>\n",
       "      <td>0</td>\n",
       "      <td>0</td>\n",
       "      <td>0</td>\n",
       "      <td>0</td>\n",
       "      <td>0</td>\n",
       "      <td>0</td>\n",
       "      <td>...</td>\n",
       "      <td>0</td>\n",
       "      <td>0</td>\n",
       "      <td>0</td>\n",
       "      <td>0</td>\n",
       "      <td>1</td>\n",
       "      <td>0</td>\n",
       "      <td>0</td>\n",
       "      <td>0</td>\n",
       "      <td>0</td>\n",
       "      <td>0</td>\n",
       "    </tr>\n",
       "    <tr>\n",
       "      <th>3</th>\n",
       "      <td>3</td>\n",
       "      <td>94</td>\n",
       "      <td>1</td>\n",
       "      <td>2</td>\n",
       "      <td>0</td>\n",
       "      <td>0</td>\n",
       "      <td>0</td>\n",
       "      <td>0</td>\n",
       "      <td>0</td>\n",
       "      <td>0</td>\n",
       "      <td>...</td>\n",
       "      <td>0</td>\n",
       "      <td>0</td>\n",
       "      <td>0</td>\n",
       "      <td>0</td>\n",
       "      <td>1</td>\n",
       "      <td>0</td>\n",
       "      <td>0</td>\n",
       "      <td>0</td>\n",
       "      <td>0</td>\n",
       "      <td>0</td>\n",
       "    </tr>\n",
       "    <tr>\n",
       "      <th>4</th>\n",
       "      <td>4</td>\n",
       "      <td>120</td>\n",
       "      <td>2</td>\n",
       "      <td>2</td>\n",
       "      <td>0</td>\n",
       "      <td>0</td>\n",
       "      <td>0</td>\n",
       "      <td>0</td>\n",
       "      <td>0</td>\n",
       "      <td>0</td>\n",
       "      <td>...</td>\n",
       "      <td>0</td>\n",
       "      <td>0</td>\n",
       "      <td>0</td>\n",
       "      <td>0</td>\n",
       "      <td>1</td>\n",
       "      <td>0</td>\n",
       "      <td>0</td>\n",
       "      <td>0</td>\n",
       "      <td>0</td>\n",
       "      <td>0</td>\n",
       "    </tr>\n",
       "    <tr>\n",
       "      <th>...</th>\n",
       "      <td>...</td>\n",
       "      <td>...</td>\n",
       "      <td>...</td>\n",
       "      <td>...</td>\n",
       "      <td>...</td>\n",
       "      <td>...</td>\n",
       "      <td>...</td>\n",
       "      <td>...</td>\n",
       "      <td>...</td>\n",
       "      <td>...</td>\n",
       "      <td>...</td>\n",
       "      <td>...</td>\n",
       "      <td>...</td>\n",
       "      <td>...</td>\n",
       "      <td>...</td>\n",
       "      <td>...</td>\n",
       "      <td>...</td>\n",
       "      <td>...</td>\n",
       "      <td>...</td>\n",
       "      <td>...</td>\n",
       "      <td>...</td>\n",
       "    </tr>\n",
       "    <tr>\n",
       "      <th>13575</th>\n",
       "      <td>4</td>\n",
       "      <td>652</td>\n",
       "      <td>2</td>\n",
       "      <td>16</td>\n",
       "      <td>0</td>\n",
       "      <td>0</td>\n",
       "      <td>0</td>\n",
       "      <td>0</td>\n",
       "      <td>0</td>\n",
       "      <td>0</td>\n",
       "      <td>...</td>\n",
       "      <td>0</td>\n",
       "      <td>0</td>\n",
       "      <td>0</td>\n",
       "      <td>0</td>\n",
       "      <td>0</td>\n",
       "      <td>0</td>\n",
       "      <td>1</td>\n",
       "      <td>0</td>\n",
       "      <td>0</td>\n",
       "      <td>0</td>\n",
       "    </tr>\n",
       "    <tr>\n",
       "      <th>13576</th>\n",
       "      <td>3</td>\n",
       "      <td>333</td>\n",
       "      <td>2</td>\n",
       "      <td>6</td>\n",
       "      <td>0</td>\n",
       "      <td>0</td>\n",
       "      <td>0</td>\n",
       "      <td>0</td>\n",
       "      <td>0</td>\n",
       "      <td>0</td>\n",
       "      <td>...</td>\n",
       "      <td>0</td>\n",
       "      <td>0</td>\n",
       "      <td>0</td>\n",
       "      <td>0</td>\n",
       "      <td>0</td>\n",
       "      <td>0</td>\n",
       "      <td>0</td>\n",
       "      <td>0</td>\n",
       "      <td>1</td>\n",
       "      <td>0</td>\n",
       "    </tr>\n",
       "    <tr>\n",
       "      <th>13577</th>\n",
       "      <td>3</td>\n",
       "      <td>436</td>\n",
       "      <td>4</td>\n",
       "      <td>6</td>\n",
       "      <td>0</td>\n",
       "      <td>0</td>\n",
       "      <td>0</td>\n",
       "      <td>0</td>\n",
       "      <td>0</td>\n",
       "      <td>0</td>\n",
       "      <td>...</td>\n",
       "      <td>0</td>\n",
       "      <td>0</td>\n",
       "      <td>0</td>\n",
       "      <td>0</td>\n",
       "      <td>0</td>\n",
       "      <td>0</td>\n",
       "      <td>0</td>\n",
       "      <td>0</td>\n",
       "      <td>1</td>\n",
       "      <td>0</td>\n",
       "    </tr>\n",
       "    <tr>\n",
       "      <th>13578</th>\n",
       "      <td>4</td>\n",
       "      <td>866</td>\n",
       "      <td>5</td>\n",
       "      <td>6</td>\n",
       "      <td>0</td>\n",
       "      <td>0</td>\n",
       "      <td>0</td>\n",
       "      <td>0</td>\n",
       "      <td>0</td>\n",
       "      <td>0</td>\n",
       "      <td>...</td>\n",
       "      <td>0</td>\n",
       "      <td>0</td>\n",
       "      <td>0</td>\n",
       "      <td>0</td>\n",
       "      <td>0</td>\n",
       "      <td>0</td>\n",
       "      <td>0</td>\n",
       "      <td>0</td>\n",
       "      <td>1</td>\n",
       "      <td>0</td>\n",
       "    </tr>\n",
       "    <tr>\n",
       "      <th>13579</th>\n",
       "      <td>4</td>\n",
       "      <td>362</td>\n",
       "      <td>1</td>\n",
       "      <td>6</td>\n",
       "      <td>0</td>\n",
       "      <td>0</td>\n",
       "      <td>0</td>\n",
       "      <td>0</td>\n",
       "      <td>0</td>\n",
       "      <td>0</td>\n",
       "      <td>...</td>\n",
       "      <td>1</td>\n",
       "      <td>0</td>\n",
       "      <td>0</td>\n",
       "      <td>0</td>\n",
       "      <td>0</td>\n",
       "      <td>0</td>\n",
       "      <td>0</td>\n",
       "      <td>0</td>\n",
       "      <td>1</td>\n",
       "      <td>0</td>\n",
       "    </tr>\n",
       "  </tbody>\n",
       "</table>\n",
       "<p>13580 rows × 593 columns</p>\n",
       "</div>"
      ],
      "text/plain": [
       "       Rooms  Landsize  Car  Distance  ASL  Abercromby's  Ace  Alexkarbon  \\\n",
       "0          2       202    1         2    0             0    0           0   \n",
       "1          2       156    0         2    0             0    0           0   \n",
       "2          3       134    0         2    0             0    0           0   \n",
       "3          3        94    1         2    0             0    0           0   \n",
       "4          4       120    2         2    0             0    0           0   \n",
       "...      ...       ...  ...       ...  ...           ...  ...         ...   \n",
       "13575      4       652    2        16    0             0    0           0   \n",
       "13576      3       333    2         6    0             0    0           0   \n",
       "13577      3       436    4         6    0             0    0           0   \n",
       "13578      4       866    5         6    0             0    0           0   \n",
       "13579      4       362    1         6    0             0    0           0   \n",
       "\n",
       "       Allens  Anderson  ...  Yarraville  t  u  Eastern Victoria  \\\n",
       "0           0         0  ...           0  0  0                 0   \n",
       "1           0         0  ...           0  0  0                 0   \n",
       "2           0         0  ...           0  0  0                 0   \n",
       "3           0         0  ...           0  0  0                 0   \n",
       "4           0         0  ...           0  0  0                 0   \n",
       "...       ...       ...  ...         ... .. ..               ...   \n",
       "13575       0         0  ...           0  0  0                 0   \n",
       "13576       0         0  ...           0  0  0                 0   \n",
       "13577       0         0  ...           0  0  0                 0   \n",
       "13578       0         0  ...           0  0  0                 0   \n",
       "13579       0         0  ...           1  0  0                 0   \n",
       "\n",
       "       Northern Metropolitan  Northern Victoria  South-Eastern Metropolitan  \\\n",
       "0                          1                  0                           0   \n",
       "1                          1                  0                           0   \n",
       "2                          1                  0                           0   \n",
       "3                          1                  0                           0   \n",
       "4                          1                  0                           0   \n",
       "...                      ...                ...                         ...   \n",
       "13575                      0                  0                           1   \n",
       "13576                      0                  0                           0   \n",
       "13577                      0                  0                           0   \n",
       "13578                      0                  0                           0   \n",
       "13579                      0                  0                           0   \n",
       "\n",
       "       Southern Metropolitan  Western Metropolitan  Western Victoria  \n",
       "0                          0                     0                 0  \n",
       "1                          0                     0                 0  \n",
       "2                          0                     0                 0  \n",
       "3                          0                     0                 0  \n",
       "4                          0                     0                 0  \n",
       "...                      ...                   ...               ...  \n",
       "13575                      0                     0                 0  \n",
       "13576                      0                     1                 0  \n",
       "13577                      0                     1                 0  \n",
       "13578                      0                     1                 0  \n",
       "13579                      0                     1                 0  \n",
       "\n",
       "[13580 rows x 593 columns]"
      ]
     },
     "execution_count": 78,
     "metadata": {},
     "output_type": "execute_result"
    }
   ],
   "source": [
    "x"
   ]
  },
  {
   "cell_type": "code",
   "execution_count": 77,
   "id": "13b569ab",
   "metadata": {},
   "outputs": [
    {
     "data": {
      "text/plain": [
       "13580"
      ]
     },
     "execution_count": 77,
     "metadata": {},
     "output_type": "execute_result"
    }
   ],
   "source": [
    "mean_y = y.sum() / len(y)\n",
    "len(y)"
   ]
  },
  {
   "cell_type": "code",
   "execution_count": 81,
   "id": "3acb88e8",
   "metadata": {},
   "outputs": [
    {
     "data": {
      "text/plain": [
       "13580"
      ]
     },
     "execution_count": 81,
     "metadata": {},
     "output_type": "execute_result"
    }
   ],
   "source": [
    "updated_residuals = y - mean_y\n",
    "len(updated_residuals)"
   ]
  },
  {
   "cell_type": "code",
   "execution_count": 126,
   "id": "f3e8faf8",
   "metadata": {},
   "outputs": [],
   "source": [
    "# Initialize/Train tree\n",
    "dt = DecisionTreeRegressor(max_depth=2000)\n",
    " "
   ]
  },
  {
   "cell_type": "code",
   "execution_count": 127,
   "id": "71b8b314",
   "metadata": {},
   "outputs": [
    {
     "data": {
      "text/plain": [
       "DecisionTreeRegressor(max_depth=2000)"
      ]
     },
     "execution_count": 127,
     "metadata": {},
     "output_type": "execute_result"
    }
   ],
   "source": [
    "dt.fit(x_train, y_train.values.ravel())"
   ]
  },
  {
   "cell_type": "code",
   "execution_count": 128,
   "id": "d5200b78",
   "metadata": {},
   "outputs": [
    {
     "name": "stdout",
     "output_type": "stream",
     "text": [
      "Decision Tree R^2 0.5773565526844882\n"
     ]
    }
   ],
   "source": [
    "yp2=dt.predict(x_test)\n",
    "print('Decision Tree R^2',dt.score(x_test,y_test))"
   ]
  },
  {
   "cell_type": "code",
   "execution_count": null,
   "id": "b8e20f58",
   "metadata": {},
   "outputs": [],
   "source": []
  }
 ],
 "metadata": {
  "kernelspec": {
   "display_name": "Python 3",
   "language": "python",
   "name": "python3"
  },
  "language_info": {
   "codemirror_mode": {
    "name": "ipython",
    "version": 3
   },
   "file_extension": ".py",
   "mimetype": "text/x-python",
   "name": "python",
   "nbconvert_exporter": "python",
   "pygments_lexer": "ipython3",
   "version": "3.8.8"
  }
 },
 "nbformat": 4,
 "nbformat_minor": 5
}
